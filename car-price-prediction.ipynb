{
 "cells": [
  {
   "cell_type": "markdown",
   "metadata": {
    "execution": {
     "iopub.execute_input": "2022-10-10T07:24:08.316446Z",
     "iopub.status.busy": "2022-10-10T07:24:08.316017Z",
     "iopub.status.idle": "2022-10-10T07:24:08.327184Z",
     "shell.execute_reply": "2022-10-10T07:24:08.325616Z",
     "shell.execute_reply.started": "2022-10-10T07:24:08.316412Z"
    }
   },
   "source": [
    "<center>\n",
    "<p style=\"font-size:20pt; font-style:bold; text-align:center\">\n",
    "\"Car Price Prediction\" \n",
    "</p>\n",
    "</center>\n",
    "\n",
    "\n",
    "<center><img\n",
    "src=\"https://mir-s3-cdn-cf.behance.net/project_modules/disp/96fdb578684029.5cac4a000cece.gif\" style=\"width:70%;height:70%;\">\n",
    "</center>\n",
    "\n",
    "# Introduction\n",
    "Hellooo everyone, we are together with new notebook. I started a new challenge that I will make notebooks about every type of problem (regression, classification, clustering, computer vision, NLP). Starting with **'Regression Type Problem'**. In this data set, we will try to predict car prices! Excited??\n",
    "\n",
    "Sooo let's step on the gas!!\n",
    "\n",
    "## Libraries ⬇\n",
    "<hr>"
   ]
  },
  {
   "cell_type": "code",
   "execution_count": 2,
   "metadata": {
    "execution": {
     "iopub.execute_input": "2022-10-21T09:32:18.461638Z",
     "iopub.status.busy": "2022-10-21T09:32:18.461302Z",
     "iopub.status.idle": "2022-10-21T09:32:20.319765Z",
     "shell.execute_reply": "2022-10-21T09:32:20.318536Z",
     "shell.execute_reply.started": "2022-10-21T09:32:18.461609Z"
    }
   },
   "outputs": [],
   "source": [
    "import numpy as np\n",
    "import pandas as pd\n",
    "import matplotlib.pyplot as plt\n",
    "import seaborn as sns\n",
    "from pandas.plotting import scatter_matrix\n",
    "\n",
    "from sklearn.impute import SimpleImputer\n",
    "from sklearn.preprocessing import StandardScaler, OneHotEncoder\n",
    "from sklearn.pipeline import Pipeline\n",
    "from sklearn.compose import ColumnTransformer\n",
    "from sklearn.model_selection import train_test_split, cross_val_score, GridSearchCV\n",
    "from sklearn.linear_model import LinearRegression\n",
    "from sklearn.metrics import mean_squared_error, mean_absolute_error\n",
    "from sklearn.tree import DecisionTreeRegressor\n",
    "from sklearn.ensemble import RandomForestRegressor\n",
    "\n",
    "from scipy import stats\n",
    "\n",
    "import joblib\n",
    "\n",
    "import warnings\n",
    "warnings.filterwarnings('ignore')"
   ]
  },
  {
   "cell_type": "markdown",
   "metadata": {},
   "source": [
    "## Importing Data 📅\n",
    "<hr>"
   ]
  },
  {
   "cell_type": "code",
   "execution_count": 3,
   "metadata": {
    "execution": {
     "iopub.execute_input": "2022-10-21T09:32:20.323046Z",
     "iopub.status.busy": "2022-10-21T09:32:20.321877Z",
     "iopub.status.idle": "2022-10-21T09:32:20.478895Z",
     "shell.execute_reply": "2022-10-21T09:32:20.477682Z",
     "shell.execute_reply.started": "2022-10-21T09:32:20.322998Z"
    }
   },
   "outputs": [],
   "source": [
    "df = pd.read_csv('car_price_prediction.csv')"
   ]
  },
  {
   "cell_type": "markdown",
   "metadata": {},
   "source": [
    "## First Glance To Data 🔎\n",
    "<hr>"
   ]
  },
  {
   "cell_type": "code",
   "execution_count": 4,
   "metadata": {
    "execution": {
     "iopub.execute_input": "2022-10-21T09:32:20.487477Z",
     "iopub.status.busy": "2022-10-21T09:32:20.486769Z",
     "iopub.status.idle": "2022-10-21T09:32:20.535644Z",
     "shell.execute_reply": "2022-10-21T09:32:20.534246Z",
     "shell.execute_reply.started": "2022-10-21T09:32:20.487438Z"
    }
   },
   "outputs": [
    {
     "data": {
      "text/html": [
       "<div>\n",
       "<style scoped>\n",
       "    .dataframe tbody tr th:only-of-type {\n",
       "        vertical-align: middle;\n",
       "    }\n",
       "\n",
       "    .dataframe tbody tr th {\n",
       "        vertical-align: top;\n",
       "    }\n",
       "\n",
       "    .dataframe thead th {\n",
       "        text-align: right;\n",
       "    }\n",
       "</style>\n",
       "<table border=\"1\" class=\"dataframe\">\n",
       "  <thead>\n",
       "    <tr style=\"text-align: right;\">\n",
       "      <th></th>\n",
       "      <th>ID</th>\n",
       "      <th>Price</th>\n",
       "      <th>Levy</th>\n",
       "      <th>Manufacturer</th>\n",
       "      <th>Model</th>\n",
       "      <th>Prod. year</th>\n",
       "      <th>Category</th>\n",
       "      <th>Leather interior</th>\n",
       "      <th>Fuel type</th>\n",
       "      <th>Engine volume</th>\n",
       "      <th>Mileage</th>\n",
       "      <th>Cylinders</th>\n",
       "      <th>Gear box type</th>\n",
       "      <th>Drive wheels</th>\n",
       "      <th>Doors</th>\n",
       "      <th>Wheel</th>\n",
       "      <th>Color</th>\n",
       "      <th>Airbags</th>\n",
       "    </tr>\n",
       "  </thead>\n",
       "  <tbody>\n",
       "    <tr>\n",
       "      <th>0</th>\n",
       "      <td>45654403</td>\n",
       "      <td>13328</td>\n",
       "      <td>1399</td>\n",
       "      <td>LEXUS</td>\n",
       "      <td>RX 450</td>\n",
       "      <td>2010</td>\n",
       "      <td>Jeep</td>\n",
       "      <td>Yes</td>\n",
       "      <td>Hybrid</td>\n",
       "      <td>3.5</td>\n",
       "      <td>186005 km</td>\n",
       "      <td>6.0</td>\n",
       "      <td>Automatic</td>\n",
       "      <td>4x4</td>\n",
       "      <td>04-May</td>\n",
       "      <td>Left wheel</td>\n",
       "      <td>Silver</td>\n",
       "      <td>12</td>\n",
       "    </tr>\n",
       "    <tr>\n",
       "      <th>1</th>\n",
       "      <td>44731507</td>\n",
       "      <td>16621</td>\n",
       "      <td>1018</td>\n",
       "      <td>CHEVROLET</td>\n",
       "      <td>Equinox</td>\n",
       "      <td>2011</td>\n",
       "      <td>Jeep</td>\n",
       "      <td>No</td>\n",
       "      <td>Petrol</td>\n",
       "      <td>3</td>\n",
       "      <td>192000 km</td>\n",
       "      <td>6.0</td>\n",
       "      <td>Tiptronic</td>\n",
       "      <td>4x4</td>\n",
       "      <td>04-May</td>\n",
       "      <td>Left wheel</td>\n",
       "      <td>Black</td>\n",
       "      <td>8</td>\n",
       "    </tr>\n",
       "    <tr>\n",
       "      <th>2</th>\n",
       "      <td>45774419</td>\n",
       "      <td>8467</td>\n",
       "      <td>-</td>\n",
       "      <td>HONDA</td>\n",
       "      <td>FIT</td>\n",
       "      <td>2006</td>\n",
       "      <td>Hatchback</td>\n",
       "      <td>No</td>\n",
       "      <td>Petrol</td>\n",
       "      <td>1.3</td>\n",
       "      <td>200000 km</td>\n",
       "      <td>4.0</td>\n",
       "      <td>Variator</td>\n",
       "      <td>Front</td>\n",
       "      <td>04-May</td>\n",
       "      <td>Right-hand drive</td>\n",
       "      <td>Black</td>\n",
       "      <td>2</td>\n",
       "    </tr>\n",
       "    <tr>\n",
       "      <th>3</th>\n",
       "      <td>45769185</td>\n",
       "      <td>3607</td>\n",
       "      <td>862</td>\n",
       "      <td>FORD</td>\n",
       "      <td>Escape</td>\n",
       "      <td>2011</td>\n",
       "      <td>Jeep</td>\n",
       "      <td>Yes</td>\n",
       "      <td>Hybrid</td>\n",
       "      <td>2.5</td>\n",
       "      <td>168966 km</td>\n",
       "      <td>4.0</td>\n",
       "      <td>Automatic</td>\n",
       "      <td>4x4</td>\n",
       "      <td>04-May</td>\n",
       "      <td>Left wheel</td>\n",
       "      <td>White</td>\n",
       "      <td>0</td>\n",
       "    </tr>\n",
       "    <tr>\n",
       "      <th>4</th>\n",
       "      <td>45809263</td>\n",
       "      <td>11726</td>\n",
       "      <td>446</td>\n",
       "      <td>HONDA</td>\n",
       "      <td>FIT</td>\n",
       "      <td>2014</td>\n",
       "      <td>Hatchback</td>\n",
       "      <td>Yes</td>\n",
       "      <td>Petrol</td>\n",
       "      <td>1.3</td>\n",
       "      <td>91901 km</td>\n",
       "      <td>4.0</td>\n",
       "      <td>Automatic</td>\n",
       "      <td>Front</td>\n",
       "      <td>04-May</td>\n",
       "      <td>Left wheel</td>\n",
       "      <td>Silver</td>\n",
       "      <td>4</td>\n",
       "    </tr>\n",
       "  </tbody>\n",
       "</table>\n",
       "</div>"
      ],
      "text/plain": [
       "         ID  Price  Levy Manufacturer    Model  Prod. year   Category  \\\n",
       "0  45654403  13328  1399        LEXUS   RX 450        2010       Jeep   \n",
       "1  44731507  16621  1018    CHEVROLET  Equinox        2011       Jeep   \n",
       "2  45774419   8467     -        HONDA      FIT        2006  Hatchback   \n",
       "3  45769185   3607   862         FORD   Escape        2011       Jeep   \n",
       "4  45809263  11726   446        HONDA      FIT        2014  Hatchback   \n",
       "\n",
       "  Leather interior Fuel type Engine volume    Mileage  Cylinders  \\\n",
       "0              Yes    Hybrid           3.5  186005 km        6.0   \n",
       "1               No    Petrol             3  192000 km        6.0   \n",
       "2               No    Petrol           1.3  200000 km        4.0   \n",
       "3              Yes    Hybrid           2.5  168966 km        4.0   \n",
       "4              Yes    Petrol           1.3   91901 km        4.0   \n",
       "\n",
       "  Gear box type Drive wheels   Doors             Wheel   Color  Airbags  \n",
       "0     Automatic          4x4  04-May        Left wheel  Silver       12  \n",
       "1     Tiptronic          4x4  04-May        Left wheel   Black        8  \n",
       "2      Variator        Front  04-May  Right-hand drive   Black        2  \n",
       "3     Automatic          4x4  04-May        Left wheel   White        0  \n",
       "4     Automatic        Front  04-May        Left wheel  Silver        4  "
      ]
     },
     "execution_count": 4,
     "metadata": {},
     "output_type": "execute_result"
    }
   ],
   "source": [
    "df.head()"
   ]
  },
  {
   "cell_type": "code",
   "execution_count": 5,
   "metadata": {
    "execution": {
     "iopub.execute_input": "2022-10-21T09:32:20.538555Z",
     "iopub.status.busy": "2022-10-21T09:32:20.537405Z",
     "iopub.status.idle": "2022-10-21T09:32:20.595063Z",
     "shell.execute_reply": "2022-10-21T09:32:20.593705Z",
     "shell.execute_reply.started": "2022-10-21T09:32:20.538491Z"
    }
   },
   "outputs": [
    {
     "name": "stdout",
     "output_type": "stream",
     "text": [
      "<class 'pandas.core.frame.DataFrame'>\n",
      "RangeIndex: 19237 entries, 0 to 19236\n",
      "Data columns (total 18 columns):\n",
      " #   Column            Non-Null Count  Dtype  \n",
      "---  ------            --------------  -----  \n",
      " 0   ID                19237 non-null  int64  \n",
      " 1   Price             19237 non-null  int64  \n",
      " 2   Levy              19237 non-null  object \n",
      " 3   Manufacturer      19237 non-null  object \n",
      " 4   Model             19237 non-null  object \n",
      " 5   Prod. year        19237 non-null  int64  \n",
      " 6   Category          19237 non-null  object \n",
      " 7   Leather interior  19237 non-null  object \n",
      " 8   Fuel type         19237 non-null  object \n",
      " 9   Engine volume     19237 non-null  object \n",
      " 10  Mileage           19237 non-null  object \n",
      " 11  Cylinders         19237 non-null  float64\n",
      " 12  Gear box type     19237 non-null  object \n",
      " 13  Drive wheels      19237 non-null  object \n",
      " 14  Doors             19237 non-null  object \n",
      " 15  Wheel             19237 non-null  object \n",
      " 16  Color             19237 non-null  object \n",
      " 17  Airbags           19237 non-null  int64  \n",
      "dtypes: float64(1), int64(4), object(13)\n",
      "memory usage: 2.6+ MB\n"
     ]
    }
   ],
   "source": [
    "df.info()"
   ]
  },
  {
   "cell_type": "code",
   "execution_count": 6,
   "metadata": {
    "execution": {
     "iopub.execute_input": "2022-10-21T09:32:20.597415Z",
     "iopub.status.busy": "2022-10-21T09:32:20.596887Z",
     "iopub.status.idle": "2022-10-21T09:32:20.640813Z",
     "shell.execute_reply": "2022-10-21T09:32:20.639510Z",
     "shell.execute_reply.started": "2022-10-21T09:32:20.597367Z"
    }
   },
   "outputs": [
    {
     "data": {
      "text/html": [
       "<div>\n",
       "<style scoped>\n",
       "    .dataframe tbody tr th:only-of-type {\n",
       "        vertical-align: middle;\n",
       "    }\n",
       "\n",
       "    .dataframe tbody tr th {\n",
       "        vertical-align: top;\n",
       "    }\n",
       "\n",
       "    .dataframe thead th {\n",
       "        text-align: right;\n",
       "    }\n",
       "</style>\n",
       "<table border=\"1\" class=\"dataframe\">\n",
       "  <thead>\n",
       "    <tr style=\"text-align: right;\">\n",
       "      <th></th>\n",
       "      <th>Price</th>\n",
       "      <th>Prod. year</th>\n",
       "      <th>Cylinders</th>\n",
       "      <th>Airbags</th>\n",
       "    </tr>\n",
       "  </thead>\n",
       "  <tbody>\n",
       "    <tr>\n",
       "      <th>count</th>\n",
       "      <td>1.923700e+04</td>\n",
       "      <td>19237.000000</td>\n",
       "      <td>19237.000000</td>\n",
       "      <td>19237.000000</td>\n",
       "    </tr>\n",
       "    <tr>\n",
       "      <th>mean</th>\n",
       "      <td>1.855593e+04</td>\n",
       "      <td>2010.912824</td>\n",
       "      <td>4.582991</td>\n",
       "      <td>6.582627</td>\n",
       "    </tr>\n",
       "    <tr>\n",
       "      <th>std</th>\n",
       "      <td>1.905813e+05</td>\n",
       "      <td>5.668673</td>\n",
       "      <td>1.199933</td>\n",
       "      <td>4.320168</td>\n",
       "    </tr>\n",
       "    <tr>\n",
       "      <th>min</th>\n",
       "      <td>1.000000e+00</td>\n",
       "      <td>1939.000000</td>\n",
       "      <td>1.000000</td>\n",
       "      <td>0.000000</td>\n",
       "    </tr>\n",
       "    <tr>\n",
       "      <th>25%</th>\n",
       "      <td>5.331000e+03</td>\n",
       "      <td>2009.000000</td>\n",
       "      <td>4.000000</td>\n",
       "      <td>4.000000</td>\n",
       "    </tr>\n",
       "    <tr>\n",
       "      <th>50%</th>\n",
       "      <td>1.317200e+04</td>\n",
       "      <td>2012.000000</td>\n",
       "      <td>4.000000</td>\n",
       "      <td>6.000000</td>\n",
       "    </tr>\n",
       "    <tr>\n",
       "      <th>75%</th>\n",
       "      <td>2.207500e+04</td>\n",
       "      <td>2015.000000</td>\n",
       "      <td>4.000000</td>\n",
       "      <td>12.000000</td>\n",
       "    </tr>\n",
       "    <tr>\n",
       "      <th>max</th>\n",
       "      <td>2.630750e+07</td>\n",
       "      <td>2020.000000</td>\n",
       "      <td>16.000000</td>\n",
       "      <td>16.000000</td>\n",
       "    </tr>\n",
       "  </tbody>\n",
       "</table>\n",
       "</div>"
      ],
      "text/plain": [
       "              Price    Prod. year     Cylinders       Airbags\n",
       "count  1.923700e+04  19237.000000  19237.000000  19237.000000\n",
       "mean   1.855593e+04   2010.912824      4.582991      6.582627\n",
       "std    1.905813e+05      5.668673      1.199933      4.320168\n",
       "min    1.000000e+00   1939.000000      1.000000      0.000000\n",
       "25%    5.331000e+03   2009.000000      4.000000      4.000000\n",
       "50%    1.317200e+04   2012.000000      4.000000      6.000000\n",
       "75%    2.207500e+04   2015.000000      4.000000     12.000000\n",
       "max    2.630750e+07   2020.000000     16.000000     16.000000"
      ]
     },
     "execution_count": 6,
     "metadata": {},
     "output_type": "execute_result"
    }
   ],
   "source": [
    "desc = ['Price','Levy','Mileage' ,'Prod. year', 'Cylinders', 'Airbags']\n",
    "df[desc].describe()"
   ]
  },
  {
   "cell_type": "markdown",
   "metadata": {},
   "source": [
    ">📌 The data we imported has **19237 rows** and ***18 columns***. Seems like we don't have any null value from ***info()*** method but actually in ***Levy*** column the ***null*** values entered as ***'-'*** so we had to change them to null values. We will handle this problem soon. \n",
    "\n",
    ">📌 The descriptive statistics shows that the ***Prices, Levy, Mileage, Cylinders and Airbags*** probably have ***right skewed*** distribution because the means of these attributes are bigger than the medians. On the other hand, ***Prod. year*** looks like ***left skewed*** distribution."
   ]
  },
  {
   "cell_type": "markdown",
   "metadata": {},
   "source": [
    "## Explatory Data Analysis 📊 and Data Cleaning 🧹\n",
    "<hr>"
   ]
  },
  {
   "cell_type": "markdown",
   "metadata": {},
   "source": [
    "Let's start checking the unique values for each attributes"
   ]
  },
  {
   "cell_type": "code",
   "execution_count": 7,
   "metadata": {
    "execution": {
     "iopub.execute_input": "2022-10-21T09:32:20.643368Z",
     "iopub.status.busy": "2022-10-21T09:32:20.642874Z",
     "iopub.status.idle": "2022-10-21T09:32:20.681747Z",
     "shell.execute_reply": "2022-10-21T09:32:20.680413Z",
     "shell.execute_reply.started": "2022-10-21T09:32:20.643322Z"
    }
   },
   "outputs": [
    {
     "name": "stdout",
     "output_type": "stream",
     "text": [
      "ID\n",
      "[45654403 44731507 45774419 ... 45804997 45793526 45813273]\n",
      "***************************************************************************\n",
      "Price\n",
      "[13328 16621  8467 ... 56814 63886 22075]\n",
      "***************************************************************************\n",
      "Levy\n",
      "['1399' '1018' '-' '862' '446' '891' '761' '751' '394' '1053' '1055'\n",
      " '1079' '810' '2386' '1850' '531' '586' '1249' '2455' '583' '1537' '1288'\n",
      " '915' '1750' '707' '1077' '1486' '1091' '650' '382' '1436' '1194' '503'\n",
      " '1017' '1104' '639' '629' '919' '781' '530' '640' '765' '777' '779' '934'\n",
      " '769' '645' '1185' '1324' '830' '1187' '1111' '760' '642' '1604' '1095'\n",
      " '966' '473' '1138' '1811' '988' '917' '1156' '687' '11714' '836' '1347'\n",
      " '2866' '1646' '259' '609' '697' '585' '475' '690' '308' '1823' '1361'\n",
      " '1273' '924' '584' '2078' '831' '1172' '893' '1872' '1885' '1266' '447'\n",
      " '2148' '1730' '730' '289' '502' '333' '1325' '247' '879' '1342' '1327'\n",
      " '1598' '1514' '1058' '738' '1935' '481' '1522' '1282' '456' '880' '900'\n",
      " '798' '1277' '442' '1051' '790' '1292' '1047' '528' '1211' '1493' '1793'\n",
      " '574' '930' '1998' '271' '706' '1481' '1677' '1661' '1286' '1408' '1090'\n",
      " '595' '1451' '1267' '993' '1714' '878' '641' '749' '1511' '603' '353'\n",
      " '877' '1236' '1141' '397' '784' '1024' '1357' '1301' '770' '922' '1438'\n",
      " '753' '607' '1363' '638' '490' '431' '565' '517' '833' '489' '1760' '986'\n",
      " '1841' '1620' '1360' '474' '1099' '978' '1624' '1946' '1268' '1307' '696'\n",
      " '649' '666' '2151' '551' '800' '971' '1323' '2377' '1845' '1083' '694'\n",
      " '463' '419' '345' '1515' '1505' '2056' '1203' '729' '460' '1356' '876'\n",
      " '911' '1190' '780' '448' '2410' '1848' '1148' '834' '1275' '1028' '1197'\n",
      " '724' '890' '1705' '505' '789' '2959' '518' '461' '1719' '2858' '3156'\n",
      " '2225' '2177' '1968' '1888' '1308' '2736' '1103' '557' '2195' '843'\n",
      " '1664' '723' '4508' '562' '501' '2018' '1076' '1202' '3301' '691' '1440'\n",
      " '1869' '1178' '418' '1820' '1413' '488' '1304' '363' '2108' '521' '1659'\n",
      " '87' '1411' '1528' '3292' '7058' '1578' '627' '874' '1996' '1488' '5679'\n",
      " '1234' '5603' '400' '889' '3268' '875' '949' '2265' '441' '742' '425'\n",
      " '2476' '2971' '614' '1816' '1375' '1405' '2297' '1062' '1113' '420'\n",
      " '2469' '658' '1951' '2670' '2578' '1995' '1032' '994' '1011' '2421'\n",
      " '1296' '155' '494' '426' '1086' '961' '2236' '1829' '764' '1834' '1054'\n",
      " '617' '1529' '2266' '637' '626' '1832' '1016' '2002' '1756' '746' '1285'\n",
      " '2690' '1118' '5332' '980' '1807' '970' '1228' '1195' '1132' '1768'\n",
      " '1384' '1080' '7063' '1817' '1452' '1975' '1368' '702' '1974' '1781'\n",
      " '1036' '944' '663' '364' '1539' '1345' '1680' '2209' '741' '1575' '695'\n",
      " '1317' '294' '1525' '424' '997' '1473' '1552' '2819' '2188' '1668' '3057'\n",
      " '799' '1502' '2606' '552' '1694' '1759' '1110' '399' '1470' '1174' '5877'\n",
      " '1474' '1688' '526' '686' '5908' '1107' '2070' '1468' '1246' '1685' '556'\n",
      " '1533' '1917' '1346' '732' '692' '579' '421' '362' '3505' '1855' '2711'\n",
      " '1586' '3739' '681' '1708' '2278' '1701' '722' '1482' '928' '827' '832'\n",
      " '527' '604' '173' '1341' '3329' '1553' '859' '167' '916' '828' '2082'\n",
      " '1176' '1108' '975' '3008' '1516' '2269' '1699' '2073' '1031' '1503'\n",
      " '2364' '1030' '1442' '5666' '2715' '1437' '2067' '1426' '2908' '1279'\n",
      " '866' '4283' '279' '2658' '3015' '2004' '1391' '4736' '748' '1466' '644'\n",
      " '683' '2705' '1297' '731' '1252' '2216' '3141' '3273' '1518' '1723'\n",
      " '1588' '972' '682' '1094' '668' '175' '967' '402' '3894' '1960' '1599'\n",
      " '2000' '2084' '1621' '714' '1109' '3989' '873' '1572' '1163' '1991'\n",
      " '1716' '1673' '2562' '2874' '965' '462' '605' '1948' '1736' '3518' '2054'\n",
      " '2467' '1681' '1272' '1205' '750' '2156' '2566' '115' '524' '3184' '676'\n",
      " '1678' '612' '328' '955' '1441' '1675' '3965' '2909' '623' '822' '867'\n",
      " '3025' '1993' '792' '636' '4057' '3743' '2337' '2570' '2418' '2472'\n",
      " '3910' '1662' '2123' '2628' '3208' '2080' '3699' '2913' '864' '2505'\n",
      " '870' '7536' '1924' '1671' '1064' '1836' '1866' '4741' '841' '1369'\n",
      " '5681' '3112' '1366' '2223' '1198' '1039' '3811' '3571' '1387' '1171'\n",
      " '1365' '1531' '1590' '11706' '2308' '4860' '1641' '1045' '1901']\n",
      "***************************************************************************\n",
      "Manufacturer\n",
      "['LEXUS' 'CHEVROLET' 'HONDA' 'FORD' 'HYUNDAI' 'TOYOTA' 'MERCEDES-BENZ'\n",
      " 'OPEL' 'PORSCHE' 'BMW' 'JEEP' 'VOLKSWAGEN' 'AUDI' 'RENAULT' 'NISSAN'\n",
      " 'SUBARU' 'DAEWOO' 'KIA' 'MITSUBISHI' 'SSANGYONG' 'MAZDA' 'GMC' 'FIAT'\n",
      " 'INFINITI' 'ALFA ROMEO' 'SUZUKI' 'ACURA' 'LINCOLN' 'VAZ' 'GAZ' 'CITROEN'\n",
      " 'LAND ROVER' 'MINI' 'DODGE' 'CHRYSLER' 'JAGUAR' 'ISUZU' 'SKODA'\n",
      " 'DAIHATSU' 'BUICK' 'TESLA' 'CADILLAC' 'PEUGEOT' 'BENTLEY' 'VOLVO' 'სხვა'\n",
      " 'HAVAL' 'HUMMER' 'SCION' 'UAZ' 'MERCURY' 'ZAZ' 'ROVER' 'SEAT' 'LANCIA'\n",
      " 'MOSKVICH' 'MASERATI' 'FERRARI' 'SAAB' 'LAMBORGHINI' 'ROLLS-ROYCE'\n",
      " 'PONTIAC' 'SATURN' 'ASTON MARTIN' 'GREATWALL']\n",
      "***************************************************************************\n",
      "Model\n",
      "['RX 450' 'Equinox' 'FIT' ... 'E 230 124' 'RX 450 F SPORT' 'Prius C aqua']\n",
      "***************************************************************************\n",
      "Prod. year\n",
      "[2010 2011 2006 2014 2016 2013 2007 1999 1997 2018 2008 2012 2017 2001\n",
      " 1995 2009 2000 2019 2015 2004 1998 1990 2005 2003 1985 1996 2002 1993\n",
      " 1992 1988 1977 1989 1994 2020 1984 1986 1991 1983 1953 1964 1974 1987\n",
      " 1943 1978 1965 1976 1957 1980 1939 1968 1947 1982 1981 1973]\n",
      "***************************************************************************\n",
      "Category\n",
      "['Jeep' 'Hatchback' 'Sedan' 'Microbus' 'Goods wagon' 'Universal' 'Coupe'\n",
      " 'Minivan' 'Cabriolet' 'Limousine' 'Pickup']\n",
      "***************************************************************************\n",
      "Leather interior\n",
      "['Yes' 'No']\n",
      "***************************************************************************\n",
      "Fuel type\n",
      "['Hybrid' 'Petrol' 'Diesel' 'CNG' 'Plug-in Hybrid' 'LPG' 'Hydrogen']\n",
      "***************************************************************************\n",
      "Engine volume\n",
      "['3.5' '3' '1.3' '2.5' '2' '1.8' '2.4' '4' '1.6' '3.3' '2.0 Turbo'\n",
      " '2.2 Turbo' '4.7' '1.5' '4.4' '3.0 Turbo' '1.4 Turbo' '3.6' '2.3'\n",
      " '1.5 Turbo' '1.6 Turbo' '2.2' '2.3 Turbo' '1.4' '5.5' '2.8 Turbo' '3.2'\n",
      " '3.8' '4.6' '1.2' '5' '1.7' '2.9' '0.5' '1.8 Turbo' '2.4 Turbo'\n",
      " '3.5 Turbo' '1.9' '2.7' '4.8' '5.3' '0.4' '2.8' '3.2 Turbo' '1.1' '2.1'\n",
      " '0.7' '5.4' '1.3 Turbo' '3.7' '1' '2.5 Turbo' '2.6' '1.9 Turbo'\n",
      " '4.4 Turbo' '4.7 Turbo' '0.8' '0.2 Turbo' '5.7' '4.8 Turbo' '4.6 Turbo'\n",
      " '6.7' '6.2' '1.2 Turbo' '3.4' '1.7 Turbo' '6.3 Turbo' '2.7 Turbo' '4.3'\n",
      " '4.2' '2.9 Turbo' '0' '4.0 Turbo' '20' '3.6 Turbo' '0.3' '3.7 Turbo'\n",
      " '5.9' '5.5 Turbo' '0.2' '2.1 Turbo' '5.6' '6' '0.7 Turbo' '0.6 Turbo'\n",
      " '6.8' '4.5' '0.6' '7.3' '0.1' '1.0 Turbo' '6.3' '4.5 Turbo' '0.8 Turbo'\n",
      " '4.2 Turbo' '3.1' '5.0 Turbo' '6.4' '3.9' '5.7 Turbo' '0.9' '0.4 Turbo'\n",
      " '5.4 Turbo' '0.3 Turbo' '5.2' '5.8' '1.1 Turbo']\n",
      "***************************************************************************\n",
      "Mileage\n",
      "['186005 km' '192000 km' '200000 km' ... '140607 km' '307325 km'\n",
      " '186923 km']\n",
      "***************************************************************************\n",
      "Cylinders\n",
      "[ 6.  4.  8.  1. 12.  3.  2. 16.  5.  7.  9. 10. 14.]\n",
      "***************************************************************************\n",
      "Gear box type\n",
      "['Automatic' 'Tiptronic' 'Variator' 'Manual']\n",
      "***************************************************************************\n",
      "Drive wheels\n",
      "['4x4' 'Front' 'Rear']\n",
      "***************************************************************************\n",
      "Doors\n",
      "['04-May' '02-Mar' '>5']\n",
      "***************************************************************************\n",
      "Wheel\n",
      "['Left wheel' 'Right-hand drive']\n",
      "***************************************************************************\n",
      "Color\n",
      "['Silver' 'Black' 'White' 'Grey' 'Blue' 'Green' 'Red' 'Sky blue' 'Orange'\n",
      " 'Yellow' 'Brown' 'Golden' 'Beige' 'Carnelian red' 'Purple' 'Pink']\n",
      "***************************************************************************\n",
      "Airbags\n",
      "[12  8  2  0  4  6 10  3  1 16  5  7  9 11 14 15 13]\n",
      "***************************************************************************\n"
     ]
    }
   ],
   "source": [
    "for col in df.columns:\n",
    "    print(col)\n",
    "    print(df[f'{col}'].unique())\n",
    "    print('*'*75)"
   ]
  },
  {
   "cell_type": "code",
   "execution_count": 8,
   "metadata": {
    "execution": {
     "iopub.execute_input": "2022-10-21T09:32:20.684379Z",
     "iopub.status.busy": "2022-10-21T09:32:20.683612Z",
     "iopub.status.idle": "2022-10-21T09:32:20.719102Z",
     "shell.execute_reply": "2022-10-21T09:32:20.717831Z",
     "shell.execute_reply.started": "2022-10-21T09:32:20.684334Z"
    }
   },
   "outputs": [
    {
     "data": {
      "text/html": [
       "<div>\n",
       "<style scoped>\n",
       "    .dataframe tbody tr th:only-of-type {\n",
       "        vertical-align: middle;\n",
       "    }\n",
       "\n",
       "    .dataframe tbody tr th {\n",
       "        vertical-align: top;\n",
       "    }\n",
       "\n",
       "    .dataframe thead th {\n",
       "        text-align: right;\n",
       "    }\n",
       "</style>\n",
       "<table border=\"1\" class=\"dataframe\">\n",
       "  <thead>\n",
       "    <tr style=\"text-align: right;\">\n",
       "      <th></th>\n",
       "      <th>ID</th>\n",
       "      <th>Price</th>\n",
       "      <th>Levy</th>\n",
       "      <th>Manufacturer</th>\n",
       "      <th>Model</th>\n",
       "      <th>Prod. year</th>\n",
       "      <th>Category</th>\n",
       "      <th>Leather interior</th>\n",
       "      <th>Fuel type</th>\n",
       "      <th>Engine volume</th>\n",
       "      <th>Mileage</th>\n",
       "      <th>Cylinders</th>\n",
       "      <th>Gear box type</th>\n",
       "      <th>Drive wheels</th>\n",
       "      <th>Doors</th>\n",
       "      <th>Wheel</th>\n",
       "      <th>Color</th>\n",
       "      <th>Airbags</th>\n",
       "    </tr>\n",
       "  </thead>\n",
       "  <tbody>\n",
       "    <tr>\n",
       "      <th>2</th>\n",
       "      <td>45774419</td>\n",
       "      <td>8467</td>\n",
       "      <td>-</td>\n",
       "      <td>HONDA</td>\n",
       "      <td>FIT</td>\n",
       "      <td>2006</td>\n",
       "      <td>Hatchback</td>\n",
       "      <td>No</td>\n",
       "      <td>Petrol</td>\n",
       "      <td>1.3</td>\n",
       "      <td>200000 km</td>\n",
       "      <td>4.0</td>\n",
       "      <td>Variator</td>\n",
       "      <td>Front</td>\n",
       "      <td>04-May</td>\n",
       "      <td>Right-hand drive</td>\n",
       "      <td>Black</td>\n",
       "      <td>2</td>\n",
       "    </tr>\n",
       "    <tr>\n",
       "      <th>9</th>\n",
       "      <td>45756839</td>\n",
       "      <td>26657</td>\n",
       "      <td>-</td>\n",
       "      <td>LEXUS</td>\n",
       "      <td>RX 350</td>\n",
       "      <td>2007</td>\n",
       "      <td>Jeep</td>\n",
       "      <td>Yes</td>\n",
       "      <td>Petrol</td>\n",
       "      <td>3.5</td>\n",
       "      <td>128500 km</td>\n",
       "      <td>6.0</td>\n",
       "      <td>Automatic</td>\n",
       "      <td>4x4</td>\n",
       "      <td>04-May</td>\n",
       "      <td>Left wheel</td>\n",
       "      <td>Silver</td>\n",
       "      <td>12</td>\n",
       "    </tr>\n",
       "    <tr>\n",
       "      <th>11</th>\n",
       "      <td>45814819</td>\n",
       "      <td>8781</td>\n",
       "      <td>-</td>\n",
       "      <td>FORD</td>\n",
       "      <td>Transit</td>\n",
       "      <td>1999</td>\n",
       "      <td>Microbus</td>\n",
       "      <td>No</td>\n",
       "      <td>CNG</td>\n",
       "      <td>4</td>\n",
       "      <td>0 km</td>\n",
       "      <td>8.0</td>\n",
       "      <td>Manual</td>\n",
       "      <td>Rear</td>\n",
       "      <td>02-Mar</td>\n",
       "      <td>Left wheel</td>\n",
       "      <td>Blue</td>\n",
       "      <td>0</td>\n",
       "    </tr>\n",
       "    <tr>\n",
       "      <th>12</th>\n",
       "      <td>45815568</td>\n",
       "      <td>3000</td>\n",
       "      <td>-</td>\n",
       "      <td>OPEL</td>\n",
       "      <td>Vectra</td>\n",
       "      <td>1997</td>\n",
       "      <td>Goods wagon</td>\n",
       "      <td>No</td>\n",
       "      <td>CNG</td>\n",
       "      <td>1.6</td>\n",
       "      <td>350000 km</td>\n",
       "      <td>4.0</td>\n",
       "      <td>Manual</td>\n",
       "      <td>Front</td>\n",
       "      <td>04-May</td>\n",
       "      <td>Left wheel</td>\n",
       "      <td>White</td>\n",
       "      <td>4</td>\n",
       "    </tr>\n",
       "    <tr>\n",
       "      <th>23</th>\n",
       "      <td>45814106</td>\n",
       "      <td>7840</td>\n",
       "      <td>-</td>\n",
       "      <td>FORD</td>\n",
       "      <td>Transit</td>\n",
       "      <td>2001</td>\n",
       "      <td>Microbus</td>\n",
       "      <td>No</td>\n",
       "      <td>Diesel</td>\n",
       "      <td>2.0 Turbo</td>\n",
       "      <td>230000 km</td>\n",
       "      <td>4.0</td>\n",
       "      <td>Manual</td>\n",
       "      <td>Front</td>\n",
       "      <td>02-Mar</td>\n",
       "      <td>Left wheel</td>\n",
       "      <td>White</td>\n",
       "      <td>0</td>\n",
       "    </tr>\n",
       "    <tr>\n",
       "      <th>...</th>\n",
       "      <td>...</td>\n",
       "      <td>...</td>\n",
       "      <td>...</td>\n",
       "      <td>...</td>\n",
       "      <td>...</td>\n",
       "      <td>...</td>\n",
       "      <td>...</td>\n",
       "      <td>...</td>\n",
       "      <td>...</td>\n",
       "      <td>...</td>\n",
       "      <td>...</td>\n",
       "      <td>...</td>\n",
       "      <td>...</td>\n",
       "      <td>...</td>\n",
       "      <td>...</td>\n",
       "      <td>...</td>\n",
       "      <td>...</td>\n",
       "      <td>...</td>\n",
       "    </tr>\n",
       "    <tr>\n",
       "      <th>19223</th>\n",
       "      <td>44571028</td>\n",
       "      <td>8781</td>\n",
       "      <td>-</td>\n",
       "      <td>DODGE</td>\n",
       "      <td>Caliber</td>\n",
       "      <td>2008</td>\n",
       "      <td>Hatchback</td>\n",
       "      <td>No</td>\n",
       "      <td>Petrol</td>\n",
       "      <td>2.4</td>\n",
       "      <td>0 km</td>\n",
       "      <td>4.0</td>\n",
       "      <td>Automatic</td>\n",
       "      <td>Front</td>\n",
       "      <td>04-May</td>\n",
       "      <td>Left wheel</td>\n",
       "      <td>Blue</td>\n",
       "      <td>4</td>\n",
       "    </tr>\n",
       "    <tr>\n",
       "      <th>19224</th>\n",
       "      <td>45768089</td>\n",
       "      <td>19130</td>\n",
       "      <td>-</td>\n",
       "      <td>KIA</td>\n",
       "      <td>Optima ex</td>\n",
       "      <td>2014</td>\n",
       "      <td>Sedan</td>\n",
       "      <td>Yes</td>\n",
       "      <td>Petrol</td>\n",
       "      <td>2.4</td>\n",
       "      <td>35800 km</td>\n",
       "      <td>4.0</td>\n",
       "      <td>Automatic</td>\n",
       "      <td>Front</td>\n",
       "      <td>04-May</td>\n",
       "      <td>Left wheel</td>\n",
       "      <td>Black</td>\n",
       "      <td>12</td>\n",
       "    </tr>\n",
       "    <tr>\n",
       "      <th>19226</th>\n",
       "      <td>45796788</td>\n",
       "      <td>7840</td>\n",
       "      <td>-</td>\n",
       "      <td>NISSAN</td>\n",
       "      <td>Skyline</td>\n",
       "      <td>2003</td>\n",
       "      <td>Sedan</td>\n",
       "      <td>Yes</td>\n",
       "      <td>Petrol</td>\n",
       "      <td>3</td>\n",
       "      <td>220000 km</td>\n",
       "      <td>6.0</td>\n",
       "      <td>Tiptronic</td>\n",
       "      <td>Rear</td>\n",
       "      <td>04-May</td>\n",
       "      <td>Right-hand drive</td>\n",
       "      <td>White</td>\n",
       "      <td>0</td>\n",
       "    </tr>\n",
       "    <tr>\n",
       "      <th>19229</th>\n",
       "      <td>39977395</td>\n",
       "      <td>50</td>\n",
       "      <td>-</td>\n",
       "      <td>TOYOTA</td>\n",
       "      <td>Prius</td>\n",
       "      <td>2008</td>\n",
       "      <td>Hatchback</td>\n",
       "      <td>No</td>\n",
       "      <td>Hybrid</td>\n",
       "      <td>1.5</td>\n",
       "      <td>150000 km</td>\n",
       "      <td>4.0</td>\n",
       "      <td>Automatic</td>\n",
       "      <td>Front</td>\n",
       "      <td>04-May</td>\n",
       "      <td>Left wheel</td>\n",
       "      <td>Silver</td>\n",
       "      <td>6</td>\n",
       "    </tr>\n",
       "    <tr>\n",
       "      <th>19232</th>\n",
       "      <td>45798355</td>\n",
       "      <td>8467</td>\n",
       "      <td>-</td>\n",
       "      <td>MERCEDES-BENZ</td>\n",
       "      <td>CLK 200</td>\n",
       "      <td>1999</td>\n",
       "      <td>Coupe</td>\n",
       "      <td>Yes</td>\n",
       "      <td>CNG</td>\n",
       "      <td>2.0 Turbo</td>\n",
       "      <td>300000 km</td>\n",
       "      <td>4.0</td>\n",
       "      <td>Manual</td>\n",
       "      <td>Rear</td>\n",
       "      <td>02-Mar</td>\n",
       "      <td>Left wheel</td>\n",
       "      <td>Silver</td>\n",
       "      <td>5</td>\n",
       "    </tr>\n",
       "  </tbody>\n",
       "</table>\n",
       "<p>5819 rows × 18 columns</p>\n",
       "</div>"
      ],
      "text/plain": [
       "             ID  Price Levy   Manufacturer      Model  Prod. year  \\\n",
       "2      45774419   8467    -          HONDA        FIT        2006   \n",
       "9      45756839  26657    -          LEXUS     RX 350        2007   \n",
       "11     45814819   8781    -           FORD    Transit        1999   \n",
       "12     45815568   3000    -           OPEL     Vectra        1997   \n",
       "23     45814106   7840    -           FORD    Transit        2001   \n",
       "...         ...    ...  ...            ...        ...         ...   \n",
       "19223  44571028   8781    -          DODGE    Caliber        2008   \n",
       "19224  45768089  19130    -            KIA  Optima ex        2014   \n",
       "19226  45796788   7840    -         NISSAN    Skyline        2003   \n",
       "19229  39977395     50    -         TOYOTA      Prius        2008   \n",
       "19232  45798355   8467    -  MERCEDES-BENZ    CLK 200        1999   \n",
       "\n",
       "          Category Leather interior Fuel type Engine volume    Mileage  \\\n",
       "2        Hatchback               No    Petrol           1.3  200000 km   \n",
       "9             Jeep              Yes    Petrol           3.5  128500 km   \n",
       "11        Microbus               No       CNG             4       0 km   \n",
       "12     Goods wagon               No       CNG           1.6  350000 km   \n",
       "23        Microbus               No    Diesel     2.0 Turbo  230000 km   \n",
       "...            ...              ...       ...           ...        ...   \n",
       "19223    Hatchback               No    Petrol           2.4       0 km   \n",
       "19224        Sedan              Yes    Petrol           2.4   35800 km   \n",
       "19226        Sedan              Yes    Petrol             3  220000 km   \n",
       "19229    Hatchback               No    Hybrid           1.5  150000 km   \n",
       "19232        Coupe              Yes       CNG     2.0 Turbo  300000 km   \n",
       "\n",
       "       Cylinders Gear box type Drive wheels   Doors             Wheel   Color  \\\n",
       "2            4.0      Variator        Front  04-May  Right-hand drive   Black   \n",
       "9            6.0     Automatic          4x4  04-May        Left wheel  Silver   \n",
       "11           8.0        Manual         Rear  02-Mar        Left wheel    Blue   \n",
       "12           4.0        Manual        Front  04-May        Left wheel   White   \n",
       "23           4.0        Manual        Front  02-Mar        Left wheel   White   \n",
       "...          ...           ...          ...     ...               ...     ...   \n",
       "19223        4.0     Automatic        Front  04-May        Left wheel    Blue   \n",
       "19224        4.0     Automatic        Front  04-May        Left wheel   Black   \n",
       "19226        6.0     Tiptronic         Rear  04-May  Right-hand drive   White   \n",
       "19229        4.0     Automatic        Front  04-May        Left wheel  Silver   \n",
       "19232        4.0        Manual         Rear  02-Mar        Left wheel  Silver   \n",
       "\n",
       "       Airbags  \n",
       "2            2  \n",
       "9           12  \n",
       "11           0  \n",
       "12           4  \n",
       "23           0  \n",
       "...        ...  \n",
       "19223        4  \n",
       "19224       12  \n",
       "19226        0  \n",
       "19229        6  \n",
       "19232        5  \n",
       "\n",
       "[5819 rows x 18 columns]"
      ]
     },
     "execution_count": 8,
     "metadata": {},
     "output_type": "execute_result"
    }
   ],
   "source": [
    "df[df['Levy'] == '-']"
   ]
  },
  {
   "cell_type": "markdown",
   "metadata": {},
   "source": [
    ">📌 As I mentioned earlier we had the '-' values in the Levy column which used instead of null values. We have ***5819*** of them! We will replace them with null for now and will handle what to imput there later on."
   ]
  },
  {
   "cell_type": "code",
   "execution_count": 9,
   "metadata": {
    "execution": {
     "iopub.execute_input": "2022-10-21T09:32:20.721461Z",
     "iopub.status.busy": "2022-10-21T09:32:20.720801Z",
     "iopub.status.idle": "2022-10-21T09:32:20.736916Z",
     "shell.execute_reply": "2022-10-21T09:32:20.735381Z",
     "shell.execute_reply.started": "2022-10-21T09:32:20.721422Z"
    }
   },
   "outputs": [],
   "source": [
    "# Replacing '-' with null\n",
    "df['Levy'].replace({'-':np.nan}, inplace = True)\n",
    "# Converting Levy type to float\n",
    "df['Levy'] = df['Levy'].astype('float64')"
   ]
  },
  {
   "cell_type": "code",
   "execution_count": 10,
   "metadata": {
    "execution": {
     "iopub.execute_input": "2022-10-21T09:32:20.743084Z",
     "iopub.status.busy": "2022-10-21T09:32:20.742691Z",
     "iopub.status.idle": "2022-10-21T09:32:20.759320Z",
     "shell.execute_reply": "2022-10-21T09:32:20.757996Z",
     "shell.execute_reply.started": "2022-10-21T09:32:20.743050Z"
    }
   },
   "outputs": [],
   "source": [
    "# Replacement: Yes >> True , No >> False\n",
    "df['Leather interior'].replace({'Yes': True, 'No':False}, inplace=True)"
   ]
  },
  {
   "cell_type": "markdown",
   "metadata": {},
   "source": [
    "-  We want to convert the Engine column type to float in order to do that we need to strip the ***'turbo'*** word in them. Also, we will make ***new column*** which is ***Turbo*** , will indicate that if the car has turbo or not (True and False)."
   ]
  },
  {
   "cell_type": "code",
   "execution_count": 11,
   "metadata": {
    "execution": {
     "iopub.execute_input": "2022-10-21T09:32:20.761742Z",
     "iopub.status.busy": "2022-10-21T09:32:20.761257Z",
     "iopub.status.idle": "2022-10-21T09:32:20.799592Z",
     "shell.execute_reply": "2022-10-21T09:32:20.798317Z",
     "shell.execute_reply.started": "2022-10-21T09:32:20.761697Z"
    }
   },
   "outputs": [],
   "source": [
    "# Making sure that we don miss anything so making everything lower first\n",
    "df['Engine volume'] = df['Engine volume'].str.lower()\n",
    "\n",
    "# Finding the rows which has turbo in them and assigning the results to new column Turbo. \n",
    "df['Turbo'] = df['Engine volume'].str.contains('turbo')\n",
    "\n",
    "# Slicing engine volumes and converting type to float\n",
    "df['Engine volume'] = df['Engine volume'].str.slice(0,3)\n",
    "df['Engine volume'] = df['Engine volume'].astype('float64')"
   ]
  },
  {
   "cell_type": "markdown",
   "metadata": {},
   "source": [
    "-  The similar issue with ***Mileage*** as well in order to convert the type of this column to ***integer***, we need to strip ***'km'*** in them. So let's make it."
   ]
  },
  {
   "cell_type": "code",
   "execution_count": 12,
   "metadata": {
    "execution": {
     "iopub.execute_input": "2022-10-21T09:32:20.801695Z",
     "iopub.status.busy": "2022-10-21T09:32:20.801143Z",
     "iopub.status.idle": "2022-10-21T09:32:20.839622Z",
     "shell.execute_reply": "2022-10-21T09:32:20.838303Z",
     "shell.execute_reply.started": "2022-10-21T09:32:20.801646Z"
    }
   },
   "outputs": [],
   "source": [
    "df['Mileage'] = df['Mileage'].str.strip('km')\n",
    "df['Mileage'] = df['Mileage'].astype('int64')"
   ]
  },
  {
   "cell_type": "markdown",
   "metadata": {},
   "source": [
    "-  The ***'Doors'*** column has these unique values ***'04-May', '02-Mar', '>5'*** so respectively we will replace them to ***4, 2 and 5***."
   ]
  },
  {
   "cell_type": "code",
   "execution_count": 13,
   "metadata": {
    "execution": {
     "iopub.execute_input": "2022-10-21T09:32:20.844463Z",
     "iopub.status.busy": "2022-10-21T09:32:20.843252Z",
     "iopub.status.idle": "2022-10-21T09:32:20.891329Z",
     "shell.execute_reply": "2022-10-21T09:32:20.889753Z",
     "shell.execute_reply.started": "2022-10-21T09:32:20.844423Z"
    }
   },
   "outputs": [],
   "source": [
    "df['Doors'].replace({'04-May':4, '02-Mar':2, '>5':5}, inplace=True)"
   ]
  },
  {
   "cell_type": "markdown",
   "metadata": {},
   "source": [
    "Dropping the ID column which will not provide any information for our model"
   ]
  },
  {
   "cell_type": "code",
   "execution_count": 14,
   "metadata": {
    "execution": {
     "iopub.execute_input": "2022-10-21T09:32:20.895815Z",
     "iopub.status.busy": "2022-10-21T09:32:20.893294Z",
     "iopub.status.idle": "2022-10-21T09:32:20.919255Z",
     "shell.execute_reply": "2022-10-21T09:32:20.917914Z",
     "shell.execute_reply.started": "2022-10-21T09:32:20.895762Z"
    }
   },
   "outputs": [],
   "source": [
    "cars = df.drop('ID', axis=1)"
   ]
  },
  {
   "cell_type": "markdown",
   "metadata": {},
   "source": [
    "Let's check the last version of our dataset after our cleaning."
   ]
  },
  {
   "cell_type": "code",
   "execution_count": 15,
   "metadata": {
    "execution": {
     "iopub.execute_input": "2022-10-21T09:32:20.923529Z",
     "iopub.status.busy": "2022-10-21T09:32:20.921690Z",
     "iopub.status.idle": "2022-10-21T09:32:20.984644Z",
     "shell.execute_reply": "2022-10-21T09:32:20.983342Z",
     "shell.execute_reply.started": "2022-10-21T09:32:20.923455Z"
    }
   },
   "outputs": [
    {
     "data": {
      "text/html": [
       "<div>\n",
       "<style scoped>\n",
       "    .dataframe tbody tr th:only-of-type {\n",
       "        vertical-align: middle;\n",
       "    }\n",
       "\n",
       "    .dataframe tbody tr th {\n",
       "        vertical-align: top;\n",
       "    }\n",
       "\n",
       "    .dataframe thead th {\n",
       "        text-align: right;\n",
       "    }\n",
       "</style>\n",
       "<table border=\"1\" class=\"dataframe\">\n",
       "  <thead>\n",
       "    <tr style=\"text-align: right;\">\n",
       "      <th></th>\n",
       "      <th>Price</th>\n",
       "      <th>Levy</th>\n",
       "      <th>Manufacturer</th>\n",
       "      <th>Model</th>\n",
       "      <th>Prod. year</th>\n",
       "      <th>Category</th>\n",
       "      <th>Leather interior</th>\n",
       "      <th>Fuel type</th>\n",
       "      <th>Engine volume</th>\n",
       "      <th>Mileage</th>\n",
       "      <th>Cylinders</th>\n",
       "      <th>Gear box type</th>\n",
       "      <th>Drive wheels</th>\n",
       "      <th>Doors</th>\n",
       "      <th>Wheel</th>\n",
       "      <th>Color</th>\n",
       "      <th>Airbags</th>\n",
       "      <th>Turbo</th>\n",
       "    </tr>\n",
       "  </thead>\n",
       "  <tbody>\n",
       "    <tr>\n",
       "      <th>0</th>\n",
       "      <td>13328</td>\n",
       "      <td>1399.0</td>\n",
       "      <td>LEXUS</td>\n",
       "      <td>RX 450</td>\n",
       "      <td>2010</td>\n",
       "      <td>Jeep</td>\n",
       "      <td>True</td>\n",
       "      <td>Hybrid</td>\n",
       "      <td>3.5</td>\n",
       "      <td>186005</td>\n",
       "      <td>6.0</td>\n",
       "      <td>Automatic</td>\n",
       "      <td>4x4</td>\n",
       "      <td>4</td>\n",
       "      <td>Left wheel</td>\n",
       "      <td>Silver</td>\n",
       "      <td>12</td>\n",
       "      <td>False</td>\n",
       "    </tr>\n",
       "    <tr>\n",
       "      <th>1</th>\n",
       "      <td>16621</td>\n",
       "      <td>1018.0</td>\n",
       "      <td>CHEVROLET</td>\n",
       "      <td>Equinox</td>\n",
       "      <td>2011</td>\n",
       "      <td>Jeep</td>\n",
       "      <td>False</td>\n",
       "      <td>Petrol</td>\n",
       "      <td>3.0</td>\n",
       "      <td>192000</td>\n",
       "      <td>6.0</td>\n",
       "      <td>Tiptronic</td>\n",
       "      <td>4x4</td>\n",
       "      <td>4</td>\n",
       "      <td>Left wheel</td>\n",
       "      <td>Black</td>\n",
       "      <td>8</td>\n",
       "      <td>False</td>\n",
       "    </tr>\n",
       "    <tr>\n",
       "      <th>2</th>\n",
       "      <td>8467</td>\n",
       "      <td>NaN</td>\n",
       "      <td>HONDA</td>\n",
       "      <td>FIT</td>\n",
       "      <td>2006</td>\n",
       "      <td>Hatchback</td>\n",
       "      <td>False</td>\n",
       "      <td>Petrol</td>\n",
       "      <td>1.3</td>\n",
       "      <td>200000</td>\n",
       "      <td>4.0</td>\n",
       "      <td>Variator</td>\n",
       "      <td>Front</td>\n",
       "      <td>4</td>\n",
       "      <td>Right-hand drive</td>\n",
       "      <td>Black</td>\n",
       "      <td>2</td>\n",
       "      <td>False</td>\n",
       "    </tr>\n",
       "    <tr>\n",
       "      <th>3</th>\n",
       "      <td>3607</td>\n",
       "      <td>862.0</td>\n",
       "      <td>FORD</td>\n",
       "      <td>Escape</td>\n",
       "      <td>2011</td>\n",
       "      <td>Jeep</td>\n",
       "      <td>True</td>\n",
       "      <td>Hybrid</td>\n",
       "      <td>2.5</td>\n",
       "      <td>168966</td>\n",
       "      <td>4.0</td>\n",
       "      <td>Automatic</td>\n",
       "      <td>4x4</td>\n",
       "      <td>4</td>\n",
       "      <td>Left wheel</td>\n",
       "      <td>White</td>\n",
       "      <td>0</td>\n",
       "      <td>False</td>\n",
       "    </tr>\n",
       "    <tr>\n",
       "      <th>4</th>\n",
       "      <td>11726</td>\n",
       "      <td>446.0</td>\n",
       "      <td>HONDA</td>\n",
       "      <td>FIT</td>\n",
       "      <td>2014</td>\n",
       "      <td>Hatchback</td>\n",
       "      <td>True</td>\n",
       "      <td>Petrol</td>\n",
       "      <td>1.3</td>\n",
       "      <td>91901</td>\n",
       "      <td>4.0</td>\n",
       "      <td>Automatic</td>\n",
       "      <td>Front</td>\n",
       "      <td>4</td>\n",
       "      <td>Left wheel</td>\n",
       "      <td>Silver</td>\n",
       "      <td>4</td>\n",
       "      <td>False</td>\n",
       "    </tr>\n",
       "  </tbody>\n",
       "</table>\n",
       "</div>"
      ],
      "text/plain": [
       "   Price    Levy Manufacturer    Model  Prod. year   Category  \\\n",
       "0  13328  1399.0        LEXUS   RX 450        2010       Jeep   \n",
       "1  16621  1018.0    CHEVROLET  Equinox        2011       Jeep   \n",
       "2   8467     NaN        HONDA      FIT        2006  Hatchback   \n",
       "3   3607   862.0         FORD   Escape        2011       Jeep   \n",
       "4  11726   446.0        HONDA      FIT        2014  Hatchback   \n",
       "\n",
       "   Leather interior Fuel type  Engine volume  Mileage  Cylinders  \\\n",
       "0              True    Hybrid            3.5   186005        6.0   \n",
       "1             False    Petrol            3.0   192000        6.0   \n",
       "2             False    Petrol            1.3   200000        4.0   \n",
       "3              True    Hybrid            2.5   168966        4.0   \n",
       "4              True    Petrol            1.3    91901        4.0   \n",
       "\n",
       "  Gear box type Drive wheels  Doors             Wheel   Color  Airbags  Turbo  \n",
       "0     Automatic          4x4      4        Left wheel  Silver       12  False  \n",
       "1     Tiptronic          4x4      4        Left wheel   Black        8  False  \n",
       "2      Variator        Front      4  Right-hand drive   Black        2  False  \n",
       "3     Automatic          4x4      4        Left wheel   White        0  False  \n",
       "4     Automatic        Front      4        Left wheel  Silver        4  False  "
      ]
     },
     "execution_count": 15,
     "metadata": {},
     "output_type": "execute_result"
    }
   ],
   "source": [
    "cars.head()"
   ]
  },
  {
   "cell_type": "markdown",
   "metadata": {},
   "source": [
    ">📌 There are some values they are surreal to be true in the columns such as ***Mileage*** and ***Price***. So let's check them and then we will make outlier detection to get rid of some of these values."
   ]
  },
  {
   "cell_type": "code",
   "execution_count": 16,
   "metadata": {
    "execution": {
     "iopub.execute_input": "2022-10-21T09:32:20.991601Z",
     "iopub.status.busy": "2022-10-21T09:32:20.988315Z",
     "iopub.status.idle": "2022-10-21T09:32:21.045123Z",
     "shell.execute_reply": "2022-10-21T09:32:21.043966Z",
     "shell.execute_reply.started": "2022-10-21T09:32:20.991550Z"
    }
   },
   "outputs": [
    {
     "data": {
      "text/html": [
       "<div>\n",
       "<style scoped>\n",
       "    .dataframe tbody tr th:only-of-type {\n",
       "        vertical-align: middle;\n",
       "    }\n",
       "\n",
       "    .dataframe tbody tr th {\n",
       "        vertical-align: top;\n",
       "    }\n",
       "\n",
       "    .dataframe thead th {\n",
       "        text-align: right;\n",
       "    }\n",
       "</style>\n",
       "<table border=\"1\" class=\"dataframe\">\n",
       "  <thead>\n",
       "    <tr style=\"text-align: right;\">\n",
       "      <th></th>\n",
       "      <th>Price</th>\n",
       "      <th>Levy</th>\n",
       "      <th>Manufacturer</th>\n",
       "      <th>Model</th>\n",
       "      <th>Prod. year</th>\n",
       "      <th>Category</th>\n",
       "      <th>Leather interior</th>\n",
       "      <th>Fuel type</th>\n",
       "      <th>Engine volume</th>\n",
       "      <th>Mileage</th>\n",
       "      <th>Cylinders</th>\n",
       "      <th>Gear box type</th>\n",
       "      <th>Drive wheels</th>\n",
       "      <th>Doors</th>\n",
       "      <th>Wheel</th>\n",
       "      <th>Color</th>\n",
       "      <th>Airbags</th>\n",
       "      <th>Turbo</th>\n",
       "    </tr>\n",
       "  </thead>\n",
       "  <tbody>\n",
       "    <tr>\n",
       "      <th>16983</th>\n",
       "      <td>26307500</td>\n",
       "      <td>NaN</td>\n",
       "      <td>OPEL</td>\n",
       "      <td>Combo</td>\n",
       "      <td>1999</td>\n",
       "      <td>Goods wagon</td>\n",
       "      <td>False</td>\n",
       "      <td>Diesel</td>\n",
       "      <td>1.7</td>\n",
       "      <td>99999</td>\n",
       "      <td>4.0</td>\n",
       "      <td>Manual</td>\n",
       "      <td>Front</td>\n",
       "      <td>2</td>\n",
       "      <td>Left wheel</td>\n",
       "      <td>Blue</td>\n",
       "      <td>0</td>\n",
       "      <td>False</td>\n",
       "    </tr>\n",
       "  </tbody>\n",
       "</table>\n",
       "</div>"
      ],
      "text/plain": [
       "          Price  Levy Manufacturer  Model  Prod. year     Category  \\\n",
       "16983  26307500   NaN         OPEL  Combo        1999  Goods wagon   \n",
       "\n",
       "       Leather interior Fuel type  Engine volume  Mileage  Cylinders  \\\n",
       "16983             False    Diesel            1.7    99999        4.0   \n",
       "\n",
       "      Gear box type Drive wheels  Doors       Wheel Color  Airbags  Turbo  \n",
       "16983        Manual        Front      2  Left wheel  Blue        0  False  "
      ]
     },
     "metadata": {},
     "output_type": "display_data"
    },
    {
     "data": {
      "text/html": [
       "<div>\n",
       "<style scoped>\n",
       "    .dataframe tbody tr th:only-of-type {\n",
       "        vertical-align: middle;\n",
       "    }\n",
       "\n",
       "    .dataframe tbody tr th {\n",
       "        vertical-align: top;\n",
       "    }\n",
       "\n",
       "    .dataframe thead th {\n",
       "        text-align: right;\n",
       "    }\n",
       "</style>\n",
       "<table border=\"1\" class=\"dataframe\">\n",
       "  <thead>\n",
       "    <tr style=\"text-align: right;\">\n",
       "      <th></th>\n",
       "      <th>Price</th>\n",
       "      <th>Levy</th>\n",
       "      <th>Manufacturer</th>\n",
       "      <th>Model</th>\n",
       "      <th>Prod. year</th>\n",
       "      <th>Category</th>\n",
       "      <th>Leather interior</th>\n",
       "      <th>Fuel type</th>\n",
       "      <th>Engine volume</th>\n",
       "      <th>Mileage</th>\n",
       "      <th>Cylinders</th>\n",
       "      <th>Gear box type</th>\n",
       "      <th>Drive wheels</th>\n",
       "      <th>Doors</th>\n",
       "      <th>Wheel</th>\n",
       "      <th>Color</th>\n",
       "      <th>Airbags</th>\n",
       "      <th>Turbo</th>\n",
       "    </tr>\n",
       "  </thead>\n",
       "  <tbody>\n",
       "    <tr>\n",
       "      <th>7</th>\n",
       "      <td>549</td>\n",
       "      <td>751.0</td>\n",
       "      <td>HYUNDAI</td>\n",
       "      <td>Sonata</td>\n",
       "      <td>2013</td>\n",
       "      <td>Sedan</td>\n",
       "      <td>True</td>\n",
       "      <td>Petrol</td>\n",
       "      <td>2.4</td>\n",
       "      <td>216118</td>\n",
       "      <td>4.0</td>\n",
       "      <td>Automatic</td>\n",
       "      <td>Front</td>\n",
       "      <td>4</td>\n",
       "      <td>Left wheel</td>\n",
       "      <td>Grey</td>\n",
       "      <td>12</td>\n",
       "      <td>False</td>\n",
       "    </tr>\n",
       "    <tr>\n",
       "      <th>10</th>\n",
       "      <td>941</td>\n",
       "      <td>1053.0</td>\n",
       "      <td>MERCEDES-BENZ</td>\n",
       "      <td>E 350</td>\n",
       "      <td>2014</td>\n",
       "      <td>Sedan</td>\n",
       "      <td>True</td>\n",
       "      <td>Diesel</td>\n",
       "      <td>3.5</td>\n",
       "      <td>184467</td>\n",
       "      <td>6.0</td>\n",
       "      <td>Automatic</td>\n",
       "      <td>Rear</td>\n",
       "      <td>4</td>\n",
       "      <td>Left wheel</td>\n",
       "      <td>White</td>\n",
       "      <td>12</td>\n",
       "      <td>False</td>\n",
       "    </tr>\n",
       "    <tr>\n",
       "      <th>15</th>\n",
       "      <td>549</td>\n",
       "      <td>1079.0</td>\n",
       "      <td>TOYOTA</td>\n",
       "      <td>CHR</td>\n",
       "      <td>2018</td>\n",
       "      <td>Jeep</td>\n",
       "      <td>True</td>\n",
       "      <td>Petrol</td>\n",
       "      <td>2.0</td>\n",
       "      <td>74146</td>\n",
       "      <td>4.0</td>\n",
       "      <td>Automatic</td>\n",
       "      <td>Front</td>\n",
       "      <td>4</td>\n",
       "      <td>Left wheel</td>\n",
       "      <td>White</td>\n",
       "      <td>12</td>\n",
       "      <td>False</td>\n",
       "    </tr>\n",
       "    <tr>\n",
       "      <th>18</th>\n",
       "      <td>549</td>\n",
       "      <td>2386.0</td>\n",
       "      <td>HYUNDAI</td>\n",
       "      <td>Sonata</td>\n",
       "      <td>2006</td>\n",
       "      <td>Sedan</td>\n",
       "      <td>True</td>\n",
       "      <td>Petrol</td>\n",
       "      <td>3.3</td>\n",
       "      <td>295059</td>\n",
       "      <td>6.0</td>\n",
       "      <td>Automatic</td>\n",
       "      <td>Rear</td>\n",
       "      <td>4</td>\n",
       "      <td>Left wheel</td>\n",
       "      <td>Blue</td>\n",
       "      <td>12</td>\n",
       "      <td>False</td>\n",
       "    </tr>\n",
       "    <tr>\n",
       "      <th>19</th>\n",
       "      <td>941</td>\n",
       "      <td>1850.0</td>\n",
       "      <td>LEXUS</td>\n",
       "      <td>RX 400</td>\n",
       "      <td>2008</td>\n",
       "      <td>Jeep</td>\n",
       "      <td>True</td>\n",
       "      <td>Hybrid</td>\n",
       "      <td>3.5</td>\n",
       "      <td>364523</td>\n",
       "      <td>6.0</td>\n",
       "      <td>Automatic</td>\n",
       "      <td>4x4</td>\n",
       "      <td>4</td>\n",
       "      <td>Left wheel</td>\n",
       "      <td>Black</td>\n",
       "      <td>12</td>\n",
       "      <td>False</td>\n",
       "    </tr>\n",
       "    <tr>\n",
       "      <th>...</th>\n",
       "      <td>...</td>\n",
       "      <td>...</td>\n",
       "      <td>...</td>\n",
       "      <td>...</td>\n",
       "      <td>...</td>\n",
       "      <td>...</td>\n",
       "      <td>...</td>\n",
       "      <td>...</td>\n",
       "      <td>...</td>\n",
       "      <td>...</td>\n",
       "      <td>...</td>\n",
       "      <td>...</td>\n",
       "      <td>...</td>\n",
       "      <td>...</td>\n",
       "      <td>...</td>\n",
       "      <td>...</td>\n",
       "      <td>...</td>\n",
       "      <td>...</td>\n",
       "    </tr>\n",
       "    <tr>\n",
       "      <th>19218</th>\n",
       "      <td>30</td>\n",
       "      <td>NaN</td>\n",
       "      <td>NISSAN</td>\n",
       "      <td>Note</td>\n",
       "      <td>2006</td>\n",
       "      <td>Hatchback</td>\n",
       "      <td>False</td>\n",
       "      <td>Petrol</td>\n",
       "      <td>1.3</td>\n",
       "      <td>0</td>\n",
       "      <td>4.0</td>\n",
       "      <td>Automatic</td>\n",
       "      <td>Front</td>\n",
       "      <td>4</td>\n",
       "      <td>Right-hand drive</td>\n",
       "      <td>Green</td>\n",
       "      <td>9</td>\n",
       "      <td>False</td>\n",
       "    </tr>\n",
       "    <tr>\n",
       "      <th>19228</th>\n",
       "      <td>706</td>\n",
       "      <td>1850.0</td>\n",
       "      <td>MERCEDES-BENZ</td>\n",
       "      <td>E 350</td>\n",
       "      <td>2008</td>\n",
       "      <td>Sedan</td>\n",
       "      <td>True</td>\n",
       "      <td>Diesel</td>\n",
       "      <td>3.5</td>\n",
       "      <td>122874</td>\n",
       "      <td>6.0</td>\n",
       "      <td>Automatic</td>\n",
       "      <td>Rear</td>\n",
       "      <td>4</td>\n",
       "      <td>Left wheel</td>\n",
       "      <td>Black</td>\n",
       "      <td>12</td>\n",
       "      <td>False</td>\n",
       "    </tr>\n",
       "    <tr>\n",
       "      <th>19229</th>\n",
       "      <td>50</td>\n",
       "      <td>NaN</td>\n",
       "      <td>TOYOTA</td>\n",
       "      <td>Prius</td>\n",
       "      <td>2008</td>\n",
       "      <td>Hatchback</td>\n",
       "      <td>False</td>\n",
       "      <td>Hybrid</td>\n",
       "      <td>1.5</td>\n",
       "      <td>150000</td>\n",
       "      <td>4.0</td>\n",
       "      <td>Automatic</td>\n",
       "      <td>Front</td>\n",
       "      <td>4</td>\n",
       "      <td>Left wheel</td>\n",
       "      <td>Silver</td>\n",
       "      <td>6</td>\n",
       "      <td>False</td>\n",
       "    </tr>\n",
       "    <tr>\n",
       "      <th>19230</th>\n",
       "      <td>470</td>\n",
       "      <td>645.0</td>\n",
       "      <td>TOYOTA</td>\n",
       "      <td>Prius</td>\n",
       "      <td>2011</td>\n",
       "      <td>Hatchback</td>\n",
       "      <td>True</td>\n",
       "      <td>Hybrid</td>\n",
       "      <td>1.8</td>\n",
       "      <td>307325</td>\n",
       "      <td>4.0</td>\n",
       "      <td>Automatic</td>\n",
       "      <td>Front</td>\n",
       "      <td>4</td>\n",
       "      <td>Left wheel</td>\n",
       "      <td>Silver</td>\n",
       "      <td>12</td>\n",
       "      <td>False</td>\n",
       "    </tr>\n",
       "    <tr>\n",
       "      <th>19236</th>\n",
       "      <td>470</td>\n",
       "      <td>753.0</td>\n",
       "      <td>HYUNDAI</td>\n",
       "      <td>Sonata</td>\n",
       "      <td>2012</td>\n",
       "      <td>Sedan</td>\n",
       "      <td>True</td>\n",
       "      <td>Hybrid</td>\n",
       "      <td>2.4</td>\n",
       "      <td>186923</td>\n",
       "      <td>4.0</td>\n",
       "      <td>Automatic</td>\n",
       "      <td>Front</td>\n",
       "      <td>4</td>\n",
       "      <td>Left wheel</td>\n",
       "      <td>White</td>\n",
       "      <td>12</td>\n",
       "      <td>False</td>\n",
       "    </tr>\n",
       "  </tbody>\n",
       "</table>\n",
       "<p>2574 rows × 18 columns</p>\n",
       "</div>"
      ],
      "text/plain": [
       "       Price    Levy   Manufacturer   Model  Prod. year   Category  \\\n",
       "7        549   751.0        HYUNDAI  Sonata        2013      Sedan   \n",
       "10       941  1053.0  MERCEDES-BENZ   E 350        2014      Sedan   \n",
       "15       549  1079.0         TOYOTA     CHR        2018       Jeep   \n",
       "18       549  2386.0        HYUNDAI  Sonata        2006      Sedan   \n",
       "19       941  1850.0          LEXUS  RX 400        2008       Jeep   \n",
       "...      ...     ...            ...     ...         ...        ...   \n",
       "19218     30     NaN         NISSAN    Note        2006  Hatchback   \n",
       "19228    706  1850.0  MERCEDES-BENZ   E 350        2008      Sedan   \n",
       "19229     50     NaN         TOYOTA   Prius        2008  Hatchback   \n",
       "19230    470   645.0         TOYOTA   Prius        2011  Hatchback   \n",
       "19236    470   753.0        HYUNDAI  Sonata        2012      Sedan   \n",
       "\n",
       "       Leather interior Fuel type  Engine volume  Mileage  Cylinders  \\\n",
       "7                  True    Petrol            2.4   216118        4.0   \n",
       "10                 True    Diesel            3.5   184467        6.0   \n",
       "15                 True    Petrol            2.0    74146        4.0   \n",
       "18                 True    Petrol            3.3   295059        6.0   \n",
       "19                 True    Hybrid            3.5   364523        6.0   \n",
       "...                 ...       ...            ...      ...        ...   \n",
       "19218             False    Petrol            1.3        0        4.0   \n",
       "19228              True    Diesel            3.5   122874        6.0   \n",
       "19229             False    Hybrid            1.5   150000        4.0   \n",
       "19230              True    Hybrid            1.8   307325        4.0   \n",
       "19236              True    Hybrid            2.4   186923        4.0   \n",
       "\n",
       "      Gear box type Drive wheels  Doors             Wheel   Color  Airbags  \\\n",
       "7         Automatic        Front      4        Left wheel    Grey       12   \n",
       "10        Automatic         Rear      4        Left wheel   White       12   \n",
       "15        Automatic        Front      4        Left wheel   White       12   \n",
       "18        Automatic         Rear      4        Left wheel    Blue       12   \n",
       "19        Automatic          4x4      4        Left wheel   Black       12   \n",
       "...             ...          ...    ...               ...     ...      ...   \n",
       "19218     Automatic        Front      4  Right-hand drive   Green        9   \n",
       "19228     Automatic         Rear      4        Left wheel   Black       12   \n",
       "19229     Automatic        Front      4        Left wheel  Silver        6   \n",
       "19230     Automatic        Front      4        Left wheel  Silver       12   \n",
       "19236     Automatic        Front      4        Left wheel   White       12   \n",
       "\n",
       "       Turbo  \n",
       "7      False  \n",
       "10     False  \n",
       "15     False  \n",
       "18     False  \n",
       "19     False  \n",
       "...      ...  \n",
       "19218  False  \n",
       "19228  False  \n",
       "19229  False  \n",
       "19230  False  \n",
       "19236  False  \n",
       "\n",
       "[2574 rows x 18 columns]"
      ]
     },
     "metadata": {},
     "output_type": "display_data"
    }
   ],
   "source": [
    "display(cars[cars.Price == cars.Price.max()])\n",
    "display(cars[cars.Price < 1000])"
   ]
  },
  {
   "cell_type": "code",
   "execution_count": 17,
   "metadata": {
    "execution": {
     "iopub.execute_input": "2022-10-21T09:32:21.046996Z",
     "iopub.status.busy": "2022-10-21T09:32:21.046660Z",
     "iopub.status.idle": "2022-10-21T09:32:21.103077Z",
     "shell.execute_reply": "2022-10-21T09:32:21.101994Z",
     "shell.execute_reply.started": "2022-10-21T09:32:21.046967Z"
    }
   },
   "outputs": [
    {
     "data": {
      "text/html": [
       "<div>\n",
       "<style scoped>\n",
       "    .dataframe tbody tr th:only-of-type {\n",
       "        vertical-align: middle;\n",
       "    }\n",
       "\n",
       "    .dataframe tbody tr th {\n",
       "        vertical-align: top;\n",
       "    }\n",
       "\n",
       "    .dataframe thead th {\n",
       "        text-align: right;\n",
       "    }\n",
       "</style>\n",
       "<table border=\"1\" class=\"dataframe\">\n",
       "  <thead>\n",
       "    <tr style=\"text-align: right;\">\n",
       "      <th></th>\n",
       "      <th>Price</th>\n",
       "      <th>Levy</th>\n",
       "      <th>Manufacturer</th>\n",
       "      <th>Model</th>\n",
       "      <th>Prod. year</th>\n",
       "      <th>Category</th>\n",
       "      <th>Leather interior</th>\n",
       "      <th>Fuel type</th>\n",
       "      <th>Engine volume</th>\n",
       "      <th>Mileage</th>\n",
       "      <th>Cylinders</th>\n",
       "      <th>Gear box type</th>\n",
       "      <th>Drive wheels</th>\n",
       "      <th>Doors</th>\n",
       "      <th>Wheel</th>\n",
       "      <th>Color</th>\n",
       "      <th>Airbags</th>\n",
       "      <th>Turbo</th>\n",
       "    </tr>\n",
       "  </thead>\n",
       "  <tbody>\n",
       "    <tr>\n",
       "      <th>2278</th>\n",
       "      <td>6899</td>\n",
       "      <td>NaN</td>\n",
       "      <td>VOLKSWAGEN</td>\n",
       "      <td>Golf</td>\n",
       "      <td>1999</td>\n",
       "      <td>Sedan</td>\n",
       "      <td>False</td>\n",
       "      <td>Petrol</td>\n",
       "      <td>1.6</td>\n",
       "      <td>2147483647</td>\n",
       "      <td>4.0</td>\n",
       "      <td>Manual</td>\n",
       "      <td>Front</td>\n",
       "      <td>4</td>\n",
       "      <td>Left wheel</td>\n",
       "      <td>Black</td>\n",
       "      <td>4</td>\n",
       "      <td>False</td>\n",
       "    </tr>\n",
       "    <tr>\n",
       "      <th>6157</th>\n",
       "      <td>5959</td>\n",
       "      <td>NaN</td>\n",
       "      <td>MERCEDES-BENZ</td>\n",
       "      <td>C 180</td>\n",
       "      <td>1995</td>\n",
       "      <td>Sedan</td>\n",
       "      <td>False</td>\n",
       "      <td>CNG</td>\n",
       "      <td>1.8</td>\n",
       "      <td>2147483647</td>\n",
       "      <td>4.0</td>\n",
       "      <td>Manual</td>\n",
       "      <td>Rear</td>\n",
       "      <td>4</td>\n",
       "      <td>Left wheel</td>\n",
       "      <td>Blue</td>\n",
       "      <td>5</td>\n",
       "      <td>False</td>\n",
       "    </tr>\n",
       "    <tr>\n",
       "      <th>11901</th>\n",
       "      <td>10036</td>\n",
       "      <td>NaN</td>\n",
       "      <td>SUBARU</td>\n",
       "      <td>Forester</td>\n",
       "      <td>2005</td>\n",
       "      <td>Jeep</td>\n",
       "      <td>False</td>\n",
       "      <td>Petrol</td>\n",
       "      <td>2.0</td>\n",
       "      <td>2147483647</td>\n",
       "      <td>4.0</td>\n",
       "      <td>Tiptronic</td>\n",
       "      <td>4x4</td>\n",
       "      <td>4</td>\n",
       "      <td>Right-hand drive</td>\n",
       "      <td>White</td>\n",
       "      <td>12</td>\n",
       "      <td>False</td>\n",
       "    </tr>\n",
       "    <tr>\n",
       "      <th>12734</th>\n",
       "      <td>2200</td>\n",
       "      <td>NaN</td>\n",
       "      <td>UAZ</td>\n",
       "      <td>31514</td>\n",
       "      <td>1968</td>\n",
       "      <td>Jeep</td>\n",
       "      <td>True</td>\n",
       "      <td>CNG</td>\n",
       "      <td>2.4</td>\n",
       "      <td>2147483647</td>\n",
       "      <td>4.0</td>\n",
       "      <td>Manual</td>\n",
       "      <td>4x4</td>\n",
       "      <td>4</td>\n",
       "      <td>Left wheel</td>\n",
       "      <td>Black</td>\n",
       "      <td>10</td>\n",
       "      <td>False</td>\n",
       "    </tr>\n",
       "    <tr>\n",
       "      <th>15347</th>\n",
       "      <td>3</td>\n",
       "      <td>NaN</td>\n",
       "      <td>BMW</td>\n",
       "      <td>525</td>\n",
       "      <td>1995</td>\n",
       "      <td>Sedan</td>\n",
       "      <td>False</td>\n",
       "      <td>Petrol</td>\n",
       "      <td>2.8</td>\n",
       "      <td>2147483647</td>\n",
       "      <td>6.0</td>\n",
       "      <td>Manual</td>\n",
       "      <td>Rear</td>\n",
       "      <td>4</td>\n",
       "      <td>Left wheel</td>\n",
       "      <td>Black</td>\n",
       "      <td>3</td>\n",
       "      <td>False</td>\n",
       "    </tr>\n",
       "    <tr>\n",
       "      <th>15393</th>\n",
       "      <td>15681</td>\n",
       "      <td>NaN</td>\n",
       "      <td>TOYOTA</td>\n",
       "      <td>Prius</td>\n",
       "      <td>2008</td>\n",
       "      <td>Sedan</td>\n",
       "      <td>False</td>\n",
       "      <td>Petrol</td>\n",
       "      <td>2.0</td>\n",
       "      <td>2147483647</td>\n",
       "      <td>4.0</td>\n",
       "      <td>Automatic</td>\n",
       "      <td>Front</td>\n",
       "      <td>4</td>\n",
       "      <td>Left wheel</td>\n",
       "      <td>Blue</td>\n",
       "      <td>0</td>\n",
       "      <td>False</td>\n",
       "    </tr>\n",
       "    <tr>\n",
       "      <th>19167</th>\n",
       "      <td>18817</td>\n",
       "      <td>1995.0</td>\n",
       "      <td>FORD</td>\n",
       "      <td>Transit</td>\n",
       "      <td>2003</td>\n",
       "      <td>Microbus</td>\n",
       "      <td>False</td>\n",
       "      <td>Diesel</td>\n",
       "      <td>2.4</td>\n",
       "      <td>2147483647</td>\n",
       "      <td>4.0</td>\n",
       "      <td>Manual</td>\n",
       "      <td>Front</td>\n",
       "      <td>2</td>\n",
       "      <td>Left wheel</td>\n",
       "      <td>White</td>\n",
       "      <td>2</td>\n",
       "      <td>True</td>\n",
       "    </tr>\n",
       "  </tbody>\n",
       "</table>\n",
       "</div>"
      ],
      "text/plain": [
       "       Price    Levy   Manufacturer     Model  Prod. year  Category  \\\n",
       "2278    6899     NaN     VOLKSWAGEN      Golf        1999     Sedan   \n",
       "6157    5959     NaN  MERCEDES-BENZ     C 180        1995     Sedan   \n",
       "11901  10036     NaN         SUBARU  Forester        2005      Jeep   \n",
       "12734   2200     NaN            UAZ     31514        1968      Jeep   \n",
       "15347      3     NaN            BMW       525        1995     Sedan   \n",
       "15393  15681     NaN         TOYOTA     Prius        2008     Sedan   \n",
       "19167  18817  1995.0           FORD   Transit        2003  Microbus   \n",
       "\n",
       "       Leather interior Fuel type  Engine volume     Mileage  Cylinders  \\\n",
       "2278              False    Petrol            1.6  2147483647        4.0   \n",
       "6157              False       CNG            1.8  2147483647        4.0   \n",
       "11901             False    Petrol            2.0  2147483647        4.0   \n",
       "12734              True       CNG            2.4  2147483647        4.0   \n",
       "15347             False    Petrol            2.8  2147483647        6.0   \n",
       "15393             False    Petrol            2.0  2147483647        4.0   \n",
       "19167             False    Diesel            2.4  2147483647        4.0   \n",
       "\n",
       "      Gear box type Drive wheels  Doors             Wheel  Color  Airbags  \\\n",
       "2278         Manual        Front      4        Left wheel  Black        4   \n",
       "6157         Manual         Rear      4        Left wheel   Blue        5   \n",
       "11901     Tiptronic          4x4      4  Right-hand drive  White       12   \n",
       "12734        Manual          4x4      4        Left wheel  Black       10   \n",
       "15347        Manual         Rear      4        Left wheel  Black        3   \n",
       "15393     Automatic        Front      4        Left wheel   Blue        0   \n",
       "19167        Manual        Front      2        Left wheel  White        2   \n",
       "\n",
       "       Turbo  \n",
       "2278   False  \n",
       "6157   False  \n",
       "11901  False  \n",
       "12734  False  \n",
       "15347  False  \n",
       "15393  False  \n",
       "19167   True  "
      ]
     },
     "metadata": {},
     "output_type": "display_data"
    },
    {
     "data": {
      "text/html": [
       "<div>\n",
       "<style scoped>\n",
       "    .dataframe tbody tr th:only-of-type {\n",
       "        vertical-align: middle;\n",
       "    }\n",
       "\n",
       "    .dataframe tbody tr th {\n",
       "        vertical-align: top;\n",
       "    }\n",
       "\n",
       "    .dataframe thead th {\n",
       "        text-align: right;\n",
       "    }\n",
       "</style>\n",
       "<table border=\"1\" class=\"dataframe\">\n",
       "  <thead>\n",
       "    <tr style=\"text-align: right;\">\n",
       "      <th></th>\n",
       "      <th>Price</th>\n",
       "      <th>Levy</th>\n",
       "      <th>Manufacturer</th>\n",
       "      <th>Model</th>\n",
       "      <th>Prod. year</th>\n",
       "      <th>Category</th>\n",
       "      <th>Leather interior</th>\n",
       "      <th>Fuel type</th>\n",
       "      <th>Engine volume</th>\n",
       "      <th>Mileage</th>\n",
       "      <th>Cylinders</th>\n",
       "      <th>Gear box type</th>\n",
       "      <th>Drive wheels</th>\n",
       "      <th>Doors</th>\n",
       "      <th>Wheel</th>\n",
       "      <th>Color</th>\n",
       "      <th>Airbags</th>\n",
       "      <th>Turbo</th>\n",
       "    </tr>\n",
       "  </thead>\n",
       "  <tbody>\n",
       "    <tr>\n",
       "      <th>11</th>\n",
       "      <td>8781</td>\n",
       "      <td>NaN</td>\n",
       "      <td>FORD</td>\n",
       "      <td>Transit</td>\n",
       "      <td>1999</td>\n",
       "      <td>Microbus</td>\n",
       "      <td>False</td>\n",
       "      <td>CNG</td>\n",
       "      <td>4.0</td>\n",
       "      <td>0</td>\n",
       "      <td>8.0</td>\n",
       "      <td>Manual</td>\n",
       "      <td>Rear</td>\n",
       "      <td>2</td>\n",
       "      <td>Left wheel</td>\n",
       "      <td>Blue</td>\n",
       "      <td>0</td>\n",
       "      <td>False</td>\n",
       "    </tr>\n",
       "    <tr>\n",
       "      <th>24</th>\n",
       "      <td>4704</td>\n",
       "      <td>NaN</td>\n",
       "      <td>OPEL</td>\n",
       "      <td>Vectra</td>\n",
       "      <td>1995</td>\n",
       "      <td>Sedan</td>\n",
       "      <td>False</td>\n",
       "      <td>Petrol</td>\n",
       "      <td>1.8</td>\n",
       "      <td>0</td>\n",
       "      <td>4.0</td>\n",
       "      <td>Automatic</td>\n",
       "      <td>Front</td>\n",
       "      <td>4</td>\n",
       "      <td>Left wheel</td>\n",
       "      <td>Green</td>\n",
       "      <td>4</td>\n",
       "      <td>False</td>\n",
       "    </tr>\n",
       "    <tr>\n",
       "      <th>26</th>\n",
       "      <td>549</td>\n",
       "      <td>2455.0</td>\n",
       "      <td>LEXUS</td>\n",
       "      <td>GX 470</td>\n",
       "      <td>2008</td>\n",
       "      <td>Jeep</td>\n",
       "      <td>True</td>\n",
       "      <td>Petrol</td>\n",
       "      <td>4.7</td>\n",
       "      <td>0</td>\n",
       "      <td>8.0</td>\n",
       "      <td>Automatic</td>\n",
       "      <td>4x4</td>\n",
       "      <td>4</td>\n",
       "      <td>Left wheel</td>\n",
       "      <td>White</td>\n",
       "      <td>0</td>\n",
       "      <td>False</td>\n",
       "    </tr>\n",
       "    <tr>\n",
       "      <th>83</th>\n",
       "      <td>8154</td>\n",
       "      <td>NaN</td>\n",
       "      <td>HONDA</td>\n",
       "      <td>Cr-v</td>\n",
       "      <td>1998</td>\n",
       "      <td>Jeep</td>\n",
       "      <td>False</td>\n",
       "      <td>Petrol</td>\n",
       "      <td>2.0</td>\n",
       "      <td>0</td>\n",
       "      <td>4.0</td>\n",
       "      <td>Automatic</td>\n",
       "      <td>4x4</td>\n",
       "      <td>4</td>\n",
       "      <td>Right-hand drive</td>\n",
       "      <td>White</td>\n",
       "      <td>2</td>\n",
       "      <td>False</td>\n",
       "    </tr>\n",
       "    <tr>\n",
       "      <th>97</th>\n",
       "      <td>4234</td>\n",
       "      <td>NaN</td>\n",
       "      <td>HONDA</td>\n",
       "      <td>Civic</td>\n",
       "      <td>1997</td>\n",
       "      <td>Hatchback</td>\n",
       "      <td>True</td>\n",
       "      <td>Petrol</td>\n",
       "      <td>1.4</td>\n",
       "      <td>0</td>\n",
       "      <td>4.0</td>\n",
       "      <td>Manual</td>\n",
       "      <td>Front</td>\n",
       "      <td>2</td>\n",
       "      <td>Left wheel</td>\n",
       "      <td>Blue</td>\n",
       "      <td>6</td>\n",
       "      <td>False</td>\n",
       "    </tr>\n",
       "    <tr>\n",
       "      <th>...</th>\n",
       "      <td>...</td>\n",
       "      <td>...</td>\n",
       "      <td>...</td>\n",
       "      <td>...</td>\n",
       "      <td>...</td>\n",
       "      <td>...</td>\n",
       "      <td>...</td>\n",
       "      <td>...</td>\n",
       "      <td>...</td>\n",
       "      <td>...</td>\n",
       "      <td>...</td>\n",
       "      <td>...</td>\n",
       "      <td>...</td>\n",
       "      <td>...</td>\n",
       "      <td>...</td>\n",
       "      <td>...</td>\n",
       "      <td>...</td>\n",
       "      <td>...</td>\n",
       "    </tr>\n",
       "    <tr>\n",
       "      <th>19064</th>\n",
       "      <td>2900</td>\n",
       "      <td>NaN</td>\n",
       "      <td>BMW</td>\n",
       "      <td>320</td>\n",
       "      <td>1994</td>\n",
       "      <td>Sedan</td>\n",
       "      <td>True</td>\n",
       "      <td>Petrol</td>\n",
       "      <td>2.0</td>\n",
       "      <td>0</td>\n",
       "      <td>6.0</td>\n",
       "      <td>Manual</td>\n",
       "      <td>Rear</td>\n",
       "      <td>4</td>\n",
       "      <td>Left wheel</td>\n",
       "      <td>Green</td>\n",
       "      <td>2</td>\n",
       "      <td>False</td>\n",
       "    </tr>\n",
       "    <tr>\n",
       "      <th>19088</th>\n",
       "      <td>2200</td>\n",
       "      <td>NaN</td>\n",
       "      <td>PEUGEOT</td>\n",
       "      <td>406</td>\n",
       "      <td>2001</td>\n",
       "      <td>Sedan</td>\n",
       "      <td>False</td>\n",
       "      <td>Petrol</td>\n",
       "      <td>2.0</td>\n",
       "      <td>0</td>\n",
       "      <td>4.0</td>\n",
       "      <td>Manual</td>\n",
       "      <td>Front</td>\n",
       "      <td>4</td>\n",
       "      <td>Left wheel</td>\n",
       "      <td>White</td>\n",
       "      <td>2</td>\n",
       "      <td>False</td>\n",
       "    </tr>\n",
       "    <tr>\n",
       "      <th>19103</th>\n",
       "      <td>30</td>\n",
       "      <td>NaN</td>\n",
       "      <td>NISSAN</td>\n",
       "      <td>Tiida</td>\n",
       "      <td>2006</td>\n",
       "      <td>Hatchback</td>\n",
       "      <td>False</td>\n",
       "      <td>Petrol</td>\n",
       "      <td>1.5</td>\n",
       "      <td>0</td>\n",
       "      <td>4.0</td>\n",
       "      <td>Automatic</td>\n",
       "      <td>Front</td>\n",
       "      <td>4</td>\n",
       "      <td>Right-hand drive</td>\n",
       "      <td>Black</td>\n",
       "      <td>4</td>\n",
       "      <td>False</td>\n",
       "    </tr>\n",
       "    <tr>\n",
       "      <th>19218</th>\n",
       "      <td>30</td>\n",
       "      <td>NaN</td>\n",
       "      <td>NISSAN</td>\n",
       "      <td>Note</td>\n",
       "      <td>2006</td>\n",
       "      <td>Hatchback</td>\n",
       "      <td>False</td>\n",
       "      <td>Petrol</td>\n",
       "      <td>1.3</td>\n",
       "      <td>0</td>\n",
       "      <td>4.0</td>\n",
       "      <td>Automatic</td>\n",
       "      <td>Front</td>\n",
       "      <td>4</td>\n",
       "      <td>Right-hand drive</td>\n",
       "      <td>Green</td>\n",
       "      <td>9</td>\n",
       "      <td>False</td>\n",
       "    </tr>\n",
       "    <tr>\n",
       "      <th>19223</th>\n",
       "      <td>8781</td>\n",
       "      <td>NaN</td>\n",
       "      <td>DODGE</td>\n",
       "      <td>Caliber</td>\n",
       "      <td>2008</td>\n",
       "      <td>Hatchback</td>\n",
       "      <td>False</td>\n",
       "      <td>Petrol</td>\n",
       "      <td>2.4</td>\n",
       "      <td>0</td>\n",
       "      <td>4.0</td>\n",
       "      <td>Automatic</td>\n",
       "      <td>Front</td>\n",
       "      <td>4</td>\n",
       "      <td>Left wheel</td>\n",
       "      <td>Blue</td>\n",
       "      <td>4</td>\n",
       "      <td>False</td>\n",
       "    </tr>\n",
       "  </tbody>\n",
       "</table>\n",
       "<p>746 rows × 18 columns</p>\n",
       "</div>"
      ],
      "text/plain": [
       "       Price    Levy Manufacturer    Model  Prod. year   Category  \\\n",
       "11      8781     NaN         FORD  Transit        1999   Microbus   \n",
       "24      4704     NaN         OPEL   Vectra        1995      Sedan   \n",
       "26       549  2455.0        LEXUS   GX 470        2008       Jeep   \n",
       "83      8154     NaN        HONDA     Cr-v        1998       Jeep   \n",
       "97      4234     NaN        HONDA    Civic        1997  Hatchback   \n",
       "...      ...     ...          ...      ...         ...        ...   \n",
       "19064   2900     NaN          BMW      320        1994      Sedan   \n",
       "19088   2200     NaN      PEUGEOT      406        2001      Sedan   \n",
       "19103     30     NaN       NISSAN    Tiida        2006  Hatchback   \n",
       "19218     30     NaN       NISSAN     Note        2006  Hatchback   \n",
       "19223   8781     NaN        DODGE  Caliber        2008  Hatchback   \n",
       "\n",
       "       Leather interior Fuel type  Engine volume  Mileage  Cylinders  \\\n",
       "11                False       CNG            4.0        0        8.0   \n",
       "24                False    Petrol            1.8        0        4.0   \n",
       "26                 True    Petrol            4.7        0        8.0   \n",
       "83                False    Petrol            2.0        0        4.0   \n",
       "97                 True    Petrol            1.4        0        4.0   \n",
       "...                 ...       ...            ...      ...        ...   \n",
       "19064              True    Petrol            2.0        0        6.0   \n",
       "19088             False    Petrol            2.0        0        4.0   \n",
       "19103             False    Petrol            1.5        0        4.0   \n",
       "19218             False    Petrol            1.3        0        4.0   \n",
       "19223             False    Petrol            2.4        0        4.0   \n",
       "\n",
       "      Gear box type Drive wheels  Doors             Wheel  Color  Airbags  \\\n",
       "11           Manual         Rear      2        Left wheel   Blue        0   \n",
       "24        Automatic        Front      4        Left wheel  Green        4   \n",
       "26        Automatic          4x4      4        Left wheel  White        0   \n",
       "83        Automatic          4x4      4  Right-hand drive  White        2   \n",
       "97           Manual        Front      2        Left wheel   Blue        6   \n",
       "...             ...          ...    ...               ...    ...      ...   \n",
       "19064        Manual         Rear      4        Left wheel  Green        2   \n",
       "19088        Manual        Front      4        Left wheel  White        2   \n",
       "19103     Automatic        Front      4  Right-hand drive  Black        4   \n",
       "19218     Automatic        Front      4  Right-hand drive  Green        9   \n",
       "19223     Automatic        Front      4        Left wheel   Blue        4   \n",
       "\n",
       "       Turbo  \n",
       "11     False  \n",
       "24     False  \n",
       "26     False  \n",
       "83     False  \n",
       "97     False  \n",
       "...      ...  \n",
       "19064  False  \n",
       "19088  False  \n",
       "19103  False  \n",
       "19218  False  \n",
       "19223  False  \n",
       "\n",
       "[746 rows x 18 columns]"
      ]
     },
     "metadata": {},
     "output_type": "display_data"
    }
   ],
   "source": [
    "display(cars[cars.Mileage == cars.Mileage.max()])\n",
    "display(cars[cars.Mileage < 1000])"
   ]
  },
  {
   "cell_type": "markdown",
   "metadata": {},
   "source": [
    "As a outlier detection algorithm, we will use ***IQR calculation*** and get rid of the values which is higher or lower than ***1.5 IQR***."
   ]
  },
  {
   "cell_type": "code",
   "execution_count": 18,
   "metadata": {
    "execution": {
     "iopub.execute_input": "2022-10-21T09:32:21.105116Z",
     "iopub.status.busy": "2022-10-21T09:32:21.104798Z",
     "iopub.status.idle": "2022-10-21T09:32:21.112885Z",
     "shell.execute_reply": "2022-10-21T09:32:21.111739Z",
     "shell.execute_reply.started": "2022-10-21T09:32:21.105087Z"
    }
   },
   "outputs": [],
   "source": [
    "def detect_outliers(df,features,thold):\n",
    "    outlier_indices = []\n",
    "    \n",
    "    for c in features:\n",
    "        # 1st quartile\n",
    "        Q1 = np.percentile(df[c],25)\n",
    "        # 3rd quartile\n",
    "        Q3 = np.percentile(df[c],75)\n",
    "        # IQR\n",
    "        IQR = Q3 - Q1\n",
    "        # Outlier step\n",
    "        outlier_step = IQR * thold\n",
    "        # Detect outlier and their indeces\n",
    "        outlier_list_col = df[(df[c] < Q1 - outlier_step) | (df[c] > Q3 + outlier_step)].index\n",
    "        # Store indeces\n",
    "        outlier_indices.extend(outlier_list_col)\n",
    "    \n",
    "    \n",
    "    return outlier_indices"
   ]
  },
  {
   "cell_type": "code",
   "execution_count": 19,
   "metadata": {
    "execution": {
     "iopub.execute_input": "2022-10-21T09:32:21.115437Z",
     "iopub.status.busy": "2022-10-21T09:32:21.114281Z",
     "iopub.status.idle": "2022-10-21T09:32:21.139985Z",
     "shell.execute_reply": "2022-10-21T09:32:21.138807Z",
     "shell.execute_reply.started": "2022-10-21T09:32:21.115383Z"
    }
   },
   "outputs": [],
   "source": [
    "features = ['Price', 'Levy', 'Mileage']\n",
    "outliers = detect_outliers(cars,features, 1.5)\n",
    "deleted_df = cars.drop(cars.loc[outliers].index,axis=0)"
   ]
  },
  {
   "cell_type": "code",
   "execution_count": 20,
   "metadata": {
    "execution": {
     "iopub.execute_input": "2022-10-21T09:32:21.142103Z",
     "iopub.status.busy": "2022-10-21T09:32:21.141650Z",
     "iopub.status.idle": "2022-10-21T09:32:21.726014Z",
     "shell.execute_reply": "2022-10-21T09:32:21.724818Z",
     "shell.execute_reply.started": "2022-10-21T09:32:21.142060Z"
    }
   },
   "outputs": [
    {
     "data": {
      "image/png": "[encoded data removed]",
      "text/plain": [
       "<Figure size 1008x432 with 2 Axes>"
      ]
     },
     "metadata": {
      "needs_background": "light"
     },
     "output_type": "display_data"
    }
   ],
   "source": [
    "top10_cars = deleted_df['Manufacturer'].value_counts().sort_values(ascending = False)[:10]\n",
    "top10_mean_prices = [deleted_df[deleted_df['Manufacturer'] == i]['Price'].mean() for i in list(top10_cars.index)]\n",
    "\n",
    "fig = plt.figure(figsize=(14,6))\n",
    "ax = fig.add_subplot(121)\n",
    "sns.barplot(top10_cars.index, top10_cars.values, palette='hot')\n",
    "plt.xticks(rotation = 90)\n",
    "plt.ylabel('# Cars')\n",
    "plt.title('Top10 The Most Frequent Cars')\n",
    "\n",
    "ax2 = fig.add_subplot(122)\n",
    "sns.lineplot(top10_cars.index, top10_mean_prices, color='r')\n",
    "plt.xticks(rotation = 90)\n",
    "plt.ylabel('Mean Prices')\n",
    "plt.title(\"Top10 Cars' Mean Prices\")\n",
    "plt.show()"
   ]
  },
  {
   "cell_type": "code",
   "execution_count": 21,
   "metadata": {
    "execution": {
     "iopub.execute_input": "2022-10-21T09:32:21.727947Z",
     "iopub.status.busy": "2022-10-21T09:32:21.727527Z",
     "iopub.status.idle": "2022-10-21T09:32:21.743306Z",
     "shell.execute_reply": "2022-10-21T09:32:21.742008Z",
     "shell.execute_reply.started": "2022-10-21T09:32:21.727894Z"
    }
   },
   "outputs": [
    {
     "data": {
      "text/plain": [
       "Doors  Drive wheels\n",
       "2      Rear              335\n",
       "       Front             285\n",
       "       4x4               103\n",
       "4      Front           11528\n",
       "       4x4              3440\n",
       "       Rear             1723\n",
       "5      Front              54\n",
       "       Rear               30\n",
       "       4x4                29\n",
       "Name: Drive wheels, dtype: int64"
      ]
     },
     "execution_count": 21,
     "metadata": {},
     "output_type": "execute_result"
    }
   ],
   "source": [
    "deleted_df.groupby('Doors')['Drive wheels'].value_counts()"
   ]
  },
  {
   "cell_type": "code",
   "execution_count": 22,
   "metadata": {
    "execution": {
     "iopub.execute_input": "2022-10-21T09:32:21.746142Z",
     "iopub.status.busy": "2022-10-21T09:32:21.745553Z",
     "iopub.status.idle": "2022-10-21T09:32:21.766596Z",
     "shell.execute_reply": "2022-10-21T09:32:21.765347Z",
     "shell.execute_reply.started": "2022-10-21T09:32:21.746105Z"
    }
   },
   "outputs": [
    {
     "data": {
      "text/plain": [
       "Doors  Drive wheels\n",
       "2      Rear            46.334716\n",
       "       Front           39.419087\n",
       "       4x4             14.246196\n",
       "4      Front           69.067162\n",
       "       4x4             20.609910\n",
       "       Rear            10.322929\n",
       "5      Front           47.787611\n",
       "       Rear            26.548673\n",
       "       4x4             25.663717\n",
       "Name: Drive wheels, dtype: float64"
      ]
     },
     "execution_count": 22,
     "metadata": {},
     "output_type": "execute_result"
    }
   ],
   "source": [
    "dd_val = np.array(deleted_df.groupby('Doors')['Drive wheels'].value_counts().values).reshape(3,3)\n",
    "dd_sum = dd_val.sum(axis=1).reshape(3,1)\n",
    "dd_sum = np.c_[dd_sum, dd_sum, dd_sum].flatten()\n",
    "\n",
    "(deleted_df.groupby('Doors')['Drive wheels'].value_counts() / dd_sum)*100"
   ]
  },
  {
   "cell_type": "code",
   "execution_count": 23,
   "metadata": {
    "execution": {
     "iopub.execute_input": "2022-10-21T09:32:21.769087Z",
     "iopub.status.busy": "2022-10-21T09:32:21.768295Z",
     "iopub.status.idle": "2022-10-21T09:32:21.782476Z",
     "shell.execute_reply": "2022-10-21T09:32:21.781346Z",
     "shell.execute_reply.started": "2022-10-21T09:32:21.769037Z"
    }
   },
   "outputs": [
    {
     "data": {
      "text/plain": [
       "Drive wheels\n",
       "Front    14700.483441\n",
       "Rear     13662.755268\n",
       "4x4      12958.593505\n",
       "Name: Price, dtype: float64"
      ]
     },
     "execution_count": 23,
     "metadata": {},
     "output_type": "execute_result"
    }
   ],
   "source": [
    "deleted_df.groupby('Drive wheels')['Price'].mean().sort_values(ascending=False)"
   ]
  },
  {
   "cell_type": "code",
   "execution_count": 24,
   "metadata": {
    "execution": {
     "iopub.execute_input": "2022-10-21T09:32:21.786150Z",
     "iopub.status.busy": "2022-10-21T09:32:21.784789Z",
     "iopub.status.idle": "2022-10-21T09:32:21.803070Z",
     "shell.execute_reply": "2022-10-21T09:32:21.800973Z",
     "shell.execute_reply.started": "2022-10-21T09:32:21.786103Z"
    }
   },
   "outputs": [
    {
     "data": {
      "text/plain": [
       "Gear box type\n",
       "Tiptronic    17876.0\n",
       "Variator     13172.0\n",
       "Automatic    11563.0\n",
       "Manual        8781.0\n",
       "Name: Price, dtype: float64"
      ]
     },
     "execution_count": 24,
     "metadata": {},
     "output_type": "execute_result"
    }
   ],
   "source": [
    "deleted_df.groupby('Gear box type')['Price'].median().sort_values(ascending=False)"
   ]
  },
  {
   "cell_type": "code",
   "execution_count": 25,
   "metadata": {
    "execution": {
     "iopub.execute_input": "2022-10-21T09:32:21.805829Z",
     "iopub.status.busy": "2022-10-21T09:32:21.804607Z",
     "iopub.status.idle": "2022-10-21T09:32:21.819343Z",
     "shell.execute_reply": "2022-10-21T09:32:21.817823Z",
     "shell.execute_reply.started": "2022-10-21T09:32:21.805779Z"
    }
   },
   "outputs": [
    {
     "data": {
      "text/plain": [
       "Color\n",
       "Yellow           16165.645833\n",
       "Grey             15511.388683\n",
       "White            14855.971142\n",
       "Brown            14810.414201\n",
       "Carnelian red    14742.733728\n",
       "Orange           14695.240506\n",
       "Beige            14418.140625\n",
       "Black            14270.543848\n",
       "Sky blue         13961.554622\n",
       "Silver           13956.965266\n",
       "Golden           13623.264286\n",
       "Blue             12751.590000\n",
       "Red              12338.672078\n",
       "Green             9117.311475\n",
       "Pink              8967.560000\n",
       "Purple            8837.384615\n",
       "Name: Price, dtype: float64"
      ]
     },
     "execution_count": 25,
     "metadata": {},
     "output_type": "execute_result"
    }
   ],
   "source": [
    "deleted_df.groupby('Color')['Price'].mean().sort_values(ascending=False)"
   ]
  },
  {
   "cell_type": "code",
   "execution_count": 26,
   "metadata": {
    "execution": {
     "iopub.execute_input": "2022-10-21T09:32:21.822235Z",
     "iopub.status.busy": "2022-10-21T09:32:21.821070Z",
     "iopub.status.idle": "2022-10-21T09:32:21.835931Z",
     "shell.execute_reply": "2022-10-21T09:32:21.834590Z",
     "shell.execute_reply.started": "2022-10-21T09:32:21.822167Z"
    }
   },
   "outputs": [
    {
     "data": {
      "text/plain": [
       "Turbo\n",
       "True     18189.0\n",
       "False    11917.0\n",
       "Name: Price, dtype: float64"
      ]
     },
     "execution_count": 26,
     "metadata": {},
     "output_type": "execute_result"
    }
   ],
   "source": [
    "deleted_df.groupby('Turbo')['Price'].median().sort_values(ascending=False)"
   ]
  },
  {
   "cell_type": "code",
   "execution_count": 27,
   "metadata": {
    "execution": {
     "iopub.execute_input": "2022-10-21T09:32:21.838353Z",
     "iopub.status.busy": "2022-10-21T09:32:21.837395Z",
     "iopub.status.idle": "2022-10-21T09:32:21.849944Z",
     "shell.execute_reply": "2022-10-21T09:32:21.848900Z",
     "shell.execute_reply.started": "2022-10-21T09:32:21.838316Z"
    }
   },
   "outputs": [
    {
     "data": {
      "text/plain": [
       "Wheel\n",
       "Left wheel          13485.0\n",
       "Right-hand drive     8467.0\n",
       "Name: Price, dtype: float64"
      ]
     },
     "execution_count": 27,
     "metadata": {},
     "output_type": "execute_result"
    }
   ],
   "source": [
    "deleted_df.groupby('Wheel')['Price'].median().sort_values(ascending=False)"
   ]
  },
  {
   "cell_type": "code",
   "execution_count": 28,
   "metadata": {
    "execution": {
     "iopub.execute_input": "2022-10-21T09:32:21.857698Z",
     "iopub.status.busy": "2022-10-21T09:32:21.856573Z",
     "iopub.status.idle": "2022-10-21T09:32:21.871660Z",
     "shell.execute_reply": "2022-10-21T09:32:21.870353Z",
     "shell.execute_reply.started": "2022-10-21T09:32:21.857658Z"
    }
   },
   "outputs": [
    {
     "data": {
      "text/plain": [
       "Fuel type\n",
       "Plug-in Hybrid    22580.0\n",
       "Hydrogen          20385.0\n",
       "Diesel            18817.0\n",
       "LPG               13485.0\n",
       "Petrol            11917.0\n",
       "Hybrid            10036.0\n",
       "CNG                7527.0\n",
       "Name: Price, dtype: float64"
      ]
     },
     "execution_count": 28,
     "metadata": {},
     "output_type": "execute_result"
    }
   ],
   "source": [
    "deleted_df.groupby('Fuel type')['Price'].median().sort_values(ascending=False)"
   ]
  },
  {
   "cell_type": "code",
   "execution_count": 29,
   "metadata": {
    "execution": {
     "iopub.execute_input": "2022-10-21T09:32:21.873857Z",
     "iopub.status.busy": "2022-10-21T09:32:21.873444Z",
     "iopub.status.idle": "2022-10-21T09:32:21.884316Z",
     "shell.execute_reply": "2022-10-21T09:32:21.883023Z",
     "shell.execute_reply.started": "2022-10-21T09:32:21.873823Z"
    }
   },
   "outputs": [
    {
     "data": {
      "text/plain": [
       "Petrol            9362\n",
       "Diesel            3596\n",
       "Hybrid            3383\n",
       "LPG                632\n",
       "CNG                469\n",
       "Plug-in Hybrid      84\n",
       "Hydrogen             1\n",
       "Name: Fuel type, dtype: int64"
      ]
     },
     "execution_count": 29,
     "metadata": {},
     "output_type": "execute_result"
    }
   ],
   "source": [
    "deleted_df['Fuel type'].value_counts()"
   ]
  },
  {
   "cell_type": "code",
   "execution_count": 30,
   "metadata": {
    "execution": {
     "iopub.execute_input": "2022-10-21T09:32:21.886547Z",
     "iopub.status.busy": "2022-10-21T09:32:21.885861Z",
     "iopub.status.idle": "2022-10-21T09:32:23.724522Z",
     "shell.execute_reply": "2022-10-21T09:32:23.723312Z",
     "shell.execute_reply.started": "2022-10-21T09:32:21.886509Z"
    }
   },
   "outputs": [
    {
     "data": {
      "image/png": "[encoded data removed]",
      "text/plain": [
       "<Figure size 1440x1080 with 9 Axes>"
      ]
     },
     "metadata": {
      "needs_background": "light"
     },
     "output_type": "display_data"
    }
   ],
   "source": [
    "%matplotlib inline\n",
    "\n",
    "deleted_df.hist(bins=25, figsize=(20,15))\n",
    "plt.show()"
   ]
  },
  {
   "cell_type": "markdown",
   "metadata": {},
   "source": [
    "As we said at very first from describe method, Price, Mileage, Levy has right skewed distribution and Prod. Year has left skewed distribution."
   ]
  },
  {
   "cell_type": "code",
   "execution_count": 31,
   "metadata": {
    "execution": {
     "iopub.execute_input": "2022-10-21T09:32:23.727054Z",
     "iopub.status.busy": "2022-10-21T09:32:23.726331Z",
     "iopub.status.idle": "2022-10-21T09:32:26.504371Z",
     "shell.execute_reply": "2022-10-21T09:32:26.503414Z",
     "shell.execute_reply.started": "2022-10-21T09:32:23.727004Z"
    }
   },
   "outputs": [
    {
     "data": {
      "image/png": "[encoded data removed]",
      "text/plain": [
       "<Figure size 864x576 with 25 Axes>"
      ]
     },
     "metadata": {
      "needs_background": "light"
     },
     "output_type": "display_data"
    }
   ],
   "source": [
    "attributes = ['Price','Levy','Engine volume','Prod. year','Mileage']\n",
    "scatter_matrix(deleted_df[attributes], figsize=(12,8))\n",
    "plt.show()"
   ]
  },
  {
   "cell_type": "markdown",
   "metadata": {},
   "source": [
    ">📌 There ***positive correlation*** between ***Engine volume and Levy*** and ***slightly negative correlation*** between ***Levy and Prod. year***. Let's check the actual correlation scores between those attributes."
   ]
  },
  {
   "cell_type": "code",
   "execution_count": 32,
   "metadata": {
    "execution": {
     "iopub.execute_input": "2022-10-21T09:32:26.506712Z",
     "iopub.status.busy": "2022-10-21T09:32:26.505677Z",
     "iopub.status.idle": "2022-10-21T09:32:27.277938Z",
     "shell.execute_reply": "2022-10-21T09:32:27.276670Z",
     "shell.execute_reply.started": "2022-10-21T09:32:26.506633Z"
    }
   },
   "outputs": [
    {
     "data": {
      "image/png": "[encoded data removed]",
      "text/plain": [
       "<Figure size 576x432 with 2 Axes>"
      ]
     },
     "metadata": {
      "needs_background": "light"
     },
     "output_type": "display_data"
    }
   ],
   "source": [
    "plt.figure(figsize=(8,6))\n",
    "sns.heatmap(deleted_df.corr(),annot=True, cbar = True)\n",
    "plt.title('Correlation Matrix')\n",
    "plt.show()"
   ]
  },
  {
   "cell_type": "markdown",
   "metadata": {},
   "source": [
    ">📌 The assumptions we made from scatter plot seems quite correct! The correliation between Levy and Engine volume ***0.64*** (not bad!). Engine volume and Cylinders has quite strong relationship which is ***0.78*** not that suprising that the cars have more cylinders have more engine volume and Levy."
   ]
  },
  {
   "cell_type": "code",
   "execution_count": 33,
   "metadata": {
    "execution": {
     "iopub.execute_input": "2022-10-21T09:32:27.280185Z",
     "iopub.status.busy": "2022-10-21T09:32:27.279628Z",
     "iopub.status.idle": "2022-10-21T09:32:27.286769Z",
     "shell.execute_reply": "2022-10-21T09:32:27.285242Z",
     "shell.execute_reply.started": "2022-10-21T09:32:27.280130Z"
    }
   },
   "outputs": [],
   "source": [
    "num_attribs = ['Levy','Prod. year', 'Engine volume','Doors', 'Mileage', 'Cylinders', 'Airbags']\n",
    "cat_attribs = ['Manufacturer','Category', 'Leather interior', 'Fuel type', 'Gear box type', 'Drive wheels', 'Wheel', 'Color', 'Turbo']"
   ]
  },
  {
   "cell_type": "markdown",
   "metadata": {},
   "source": [
    "Let's split our target value from our dataset."
   ]
  },
  {
   "cell_type": "code",
   "execution_count": 34,
   "metadata": {
    "execution": {
     "iopub.execute_input": "2022-10-21T09:32:27.288739Z",
     "iopub.status.busy": "2022-10-21T09:32:27.288288Z",
     "iopub.status.idle": "2022-10-21T09:32:27.309734Z",
     "shell.execute_reply": "2022-10-21T09:32:27.308705Z",
     "shell.execute_reply.started": "2022-10-21T09:32:27.288704Z"
    }
   },
   "outputs": [],
   "source": [
    "num_cars = deleted_df[num_attribs]\n",
    "y = deleted_df['Price']\n",
    "cat_cars = deleted_df[cat_attribs]"
   ]
  },
  {
   "cell_type": "markdown",
   "metadata": {},
   "source": [
    "At very first stage we replaced ***'-'*** with ***NaN***s which was for ***Levy*** column. Time to handle with them. We will impute ***median*** values for that NaNs.(We don't have any other NaN value in another column so the following code just will impute them into the Levy but if your dataset has NaN's in the multiple column the code we will type will impute medians to each column seperately.)"
   ]
  },
  {
   "cell_type": "code",
   "execution_count": 35,
   "metadata": {
    "execution": {
     "iopub.execute_input": "2022-10-21T09:32:27.312891Z",
     "iopub.status.busy": "2022-10-21T09:32:27.311376Z",
     "iopub.status.idle": "2022-10-21T09:32:27.346454Z",
     "shell.execute_reply": "2022-10-21T09:32:27.345280Z",
     "shell.execute_reply.started": "2022-10-21T09:32:27.312837Z"
    }
   },
   "outputs": [
    {
     "data": {
      "text/plain": [
       "array([7.79000e+02, 2.01200e+03, 2.00000e+00, 4.00000e+00, 1.26265e+05,\n",
       "       4.00000e+00, 6.00000e+00])"
      ]
     },
     "metadata": {},
     "output_type": "display_data"
    }
   ],
   "source": [
    "Imputer = SimpleImputer(strategy='median')\n",
    "\n",
    "Imputer.fit(num_cars)\n",
    "# Displaying medians of every numveric column we have\n",
    "display(Imputer.statistics_)\n",
    "num_cars = Imputer.transform(num_cars)"
   ]
  },
  {
   "cell_type": "markdown",
   "metadata": {},
   "source": [
    "Time to scale our numerical attributes! Scaling will help to our model to make better predictions and computation time will be less."
   ]
  },
  {
   "cell_type": "code",
   "execution_count": 36,
   "metadata": {
    "execution": {
     "iopub.execute_input": "2022-10-21T09:32:27.348244Z",
     "iopub.status.busy": "2022-10-21T09:32:27.347861Z",
     "iopub.status.idle": "2022-10-21T09:32:27.356293Z",
     "shell.execute_reply": "2022-10-21T09:32:27.355007Z",
     "shell.execute_reply.started": "2022-10-21T09:32:27.348190Z"
    }
   },
   "outputs": [],
   "source": [
    "scaler = StandardScaler()\n",
    "num_cars = scaler.fit_transform(num_cars)"
   ]
  },
  {
   "cell_type": "code",
   "execution_count": 37,
   "metadata": {
    "execution": {
     "iopub.execute_input": "2022-10-21T09:32:27.358823Z",
     "iopub.status.busy": "2022-10-21T09:32:27.358161Z",
     "iopub.status.idle": "2022-10-21T09:32:27.372406Z",
     "shell.execute_reply": "2022-10-21T09:32:27.371270Z",
     "shell.execute_reply.started": "2022-10-21T09:32:27.358765Z"
    }
   },
   "outputs": [
    {
     "data": {
      "text/plain": [
       "array([[ 1.37160845, -0.1217927 ,  1.41203665, ...,  0.65905288,\n",
       "         1.24261819,  1.24708939],\n",
       "       [ 0.40211876,  0.05745498,  0.83329684, ...,  0.73275   ,\n",
       "         1.24261819,  0.32314571],\n",
       "       [-0.20603881, -0.8387834 , -1.13441853, ...,  0.83109479,\n",
       "        -0.47689618, -1.06276982],\n",
       "       ...,\n",
       "       [-0.06099705, -0.1217927 , -0.32418279, ..., -0.19703846,\n",
       "        -0.47689618, -0.60079798],\n",
       "       [ 1.0891587 , -0.65953572, -0.32418279, ..., -0.99740519,\n",
       "        -0.47689618, -0.60079798],\n",
       "       [-0.27219821,  0.23670266,  0.13880906, ...,  0.67033795,\n",
       "        -0.47689618,  1.24708939]])"
      ]
     },
     "execution_count": 37,
     "metadata": {},
     "output_type": "execute_result"
    }
   ],
   "source": [
    "num_cars"
   ]
  },
  {
   "cell_type": "markdown",
   "metadata": {},
   "source": [
    "Let's put these 2 steps together to use them with one piece of code when we need them in the future."
   ]
  },
  {
   "cell_type": "code",
   "execution_count": 38,
   "metadata": {
    "execution": {
     "iopub.execute_input": "2022-10-21T09:32:27.374546Z",
     "iopub.status.busy": "2022-10-21T09:32:27.373912Z",
     "iopub.status.idle": "2022-10-21T09:32:27.381472Z",
     "shell.execute_reply": "2022-10-21T09:32:27.380603Z",
     "shell.execute_reply.started": "2022-10-21T09:32:27.374501Z"
    }
   },
   "outputs": [],
   "source": [
    "num_pipeline = Pipeline([\n",
    "    ('imputer', SimpleImputer(strategy='median')),\n",
    "    ('std_scaler', StandardScaler())])"
   ]
  },
  {
   "cell_type": "markdown",
   "metadata": {},
   "source": [
    "Also we need to handle with the categorical columns because the machine learning model we will use expects only numerical values. So we will use one hot encoding, which will give 1 (Hot) the attribute is exist for that sample and 0 (Cold) for others and making full pipeline which will handle numerical values and categorical values at the same time)"
   ]
  },
  {
   "cell_type": "code",
   "execution_count": 39,
   "metadata": {
    "execution": {
     "iopub.execute_input": "2022-10-21T09:32:27.383593Z",
     "iopub.status.busy": "2022-10-21T09:32:27.382624Z",
     "iopub.status.idle": "2022-10-21T09:32:27.483074Z",
     "shell.execute_reply": "2022-10-21T09:32:27.481573Z",
     "shell.execute_reply.started": "2022-10-21T09:32:27.383557Z"
    }
   },
   "outputs": [],
   "source": [
    "full_pipeline = ColumnTransformer([\n",
    "    ('num',num_pipeline, num_attribs),\n",
    "    ('cat',OneHotEncoder(), cat_attribs)  \n",
    "])\n",
    "cars_prepared = full_pipeline.fit_transform(deleted_df)"
   ]
  },
  {
   "cell_type": "markdown",
   "metadata": {},
   "source": [
    "Time to split our data for train and test, we will use %66 of them for train and %33 of them for test step."
   ]
  },
  {
   "cell_type": "code",
   "execution_count": 40,
   "metadata": {
    "execution": {
     "iopub.execute_input": "2022-10-21T09:32:27.485461Z",
     "iopub.status.busy": "2022-10-21T09:32:27.484944Z",
     "iopub.status.idle": "2022-10-21T09:32:27.498428Z",
     "shell.execute_reply": "2022-10-21T09:32:27.497077Z",
     "shell.execute_reply.started": "2022-10-21T09:32:27.485407Z"
    }
   },
   "outputs": [],
   "source": [
    "X_train, X_test, y_train, y_test = train_test_split(cars_prepared, y, test_size=0.33, random_state = 123)"
   ]
  },
  {
   "cell_type": "markdown",
   "metadata": {
    "execution": {
     "iopub.execute_input": "2022-10-14T12:54:29.158381Z",
     "iopub.status.busy": "2022-10-14T12:54:29.157955Z",
     "iopub.status.idle": "2022-10-14T12:54:29.164652Z",
     "shell.execute_reply": "2022-10-14T12:54:29.163525Z",
     "shell.execute_reply.started": "2022-10-14T12:54:29.158346Z"
    }
   },
   "source": [
    "## Model Setup, Hyperparameter Tuning and Model Evaluation 🧱\n",
    "<hr>"
   ]
  },
  {
   "cell_type": "markdown",
   "metadata": {},
   "source": [
    "This is a regression type problem so very first thing I want to try is Linear Regression, ofc!"
   ]
  },
  {
   "cell_type": "code",
   "execution_count": 41,
   "metadata": {
    "execution": {
     "iopub.execute_input": "2022-10-21T09:32:27.501196Z",
     "iopub.status.busy": "2022-10-21T09:32:27.500681Z",
     "iopub.status.idle": "2022-10-21T09:32:28.057599Z",
     "shell.execute_reply": "2022-10-21T09:32:28.056312Z",
     "shell.execute_reply.started": "2022-10-21T09:32:27.501148Z"
    }
   },
   "outputs": [
    {
     "data": {
      "text/plain": [
       "LinearRegression()"
      ]
     },
     "execution_count": 41,
     "metadata": {},
     "output_type": "execute_result"
    }
   ],
   "source": [
    "lin_reg = LinearRegression()\n",
    "\n",
    "lin_reg.fit(X_train, y_train)"
   ]
  },
  {
   "cell_type": "code",
   "execution_count": 42,
   "metadata": {
    "execution": {
     "iopub.execute_input": "2022-10-21T09:32:28.060488Z",
     "iopub.status.busy": "2022-10-21T09:32:28.059660Z",
     "iopub.status.idle": "2022-10-21T09:32:28.072780Z",
     "shell.execute_reply": "2022-10-21T09:32:28.070897Z",
     "shell.execute_reply.started": "2022-10-21T09:32:28.060440Z"
    }
   },
   "outputs": [
    {
     "data": {
      "text/plain": [
       "9216.571181194618"
      ]
     },
     "execution_count": 42,
     "metadata": {},
     "output_type": "execute_result"
    }
   ],
   "source": [
    "predictions = lin_reg.predict(X_train)\n",
    "lin_mse = mean_squared_error(y_train, predictions)\n",
    "lin_rmse = np.sqrt(lin_mse)\n",
    "lin_rmse"
   ]
  },
  {
   "cell_type": "markdown",
   "metadata": {},
   "source": [
    "We are approximately 9.2k away from actual prices which is not bad let's check MAE as well."
   ]
  },
  {
   "cell_type": "code",
   "execution_count": 43,
   "metadata": {
    "execution": {
     "iopub.execute_input": "2022-10-21T09:32:28.076320Z",
     "iopub.status.busy": "2022-10-21T09:32:28.075299Z",
     "iopub.status.idle": "2022-10-21T09:32:28.087170Z",
     "shell.execute_reply": "2022-10-21T09:32:28.085566Z",
     "shell.execute_reply.started": "2022-10-21T09:32:28.076270Z"
    }
   },
   "outputs": [
    {
     "data": {
      "text/plain": [
       "7129.6995768432525"
      ]
     },
     "execution_count": 43,
     "metadata": {},
     "output_type": "execute_result"
    }
   ],
   "source": [
    "mae = mean_absolute_error(y_train, predictions)\n",
    "mae"
   ]
  },
  {
   "cell_type": "markdown",
   "metadata": {},
   "source": [
    "The next algorithm I wanna try is decision tree, let's check how good it is with that problem."
   ]
  },
  {
   "cell_type": "code",
   "execution_count": 44,
   "metadata": {
    "execution": {
     "iopub.execute_input": "2022-10-21T09:32:28.090758Z",
     "iopub.status.busy": "2022-10-21T09:32:28.089621Z",
     "iopub.status.idle": "2022-10-21T09:32:29.012150Z",
     "shell.execute_reply": "2022-10-21T09:32:29.010969Z",
     "shell.execute_reply.started": "2022-10-21T09:32:28.090708Z"
    }
   },
   "outputs": [
    {
     "data": {
      "text/plain": [
       "DecisionTreeRegressor(random_state=123)"
      ]
     },
     "execution_count": 44,
     "metadata": {},
     "output_type": "execute_result"
    }
   ],
   "source": [
    "tree_reg = DecisionTreeRegressor(random_state = 123)\n",
    "\n",
    "tree_reg.fit(X_train, y_train)"
   ]
  },
  {
   "cell_type": "code",
   "execution_count": 45,
   "metadata": {
    "execution": {
     "iopub.execute_input": "2022-10-21T09:32:29.014433Z",
     "iopub.status.busy": "2022-10-21T09:32:29.013919Z",
     "iopub.status.idle": "2022-10-21T09:32:29.029769Z",
     "shell.execute_reply": "2022-10-21T09:32:29.028389Z",
     "shell.execute_reply.started": "2022-10-21T09:32:29.014379Z"
    }
   },
   "outputs": [
    {
     "data": {
      "text/plain": [
       "995.1400359363548"
      ]
     },
     "execution_count": 45,
     "metadata": {},
     "output_type": "execute_result"
    }
   ],
   "source": [
    "tree_predictions = tree_reg.predict(X_train)\n",
    "tree_mse = mean_squared_error(y_train, tree_predictions)\n",
    "tree_rmse = np.sqrt(tree_mse)\n",
    "tree_rmse"
   ]
  },
  {
   "cell_type": "markdown",
   "metadata": {},
   "source": [
    "Just 995??! Decision tree is really keen on to overfitting so just checking rmse will not be enough to evaluate it let's check cross validation score for it."
   ]
  },
  {
   "cell_type": "code",
   "execution_count": 46,
   "metadata": {
    "execution": {
     "iopub.execute_input": "2022-10-21T09:32:29.032300Z",
     "iopub.status.busy": "2022-10-21T09:32:29.031341Z",
     "iopub.status.idle": "2022-10-21T09:32:32.311310Z",
     "shell.execute_reply": "2022-10-21T09:32:32.309874Z",
     "shell.execute_reply.started": "2022-10-21T09:32:29.032250Z"
    }
   },
   "outputs": [
    {
     "data": {
      "text/plain": [
       "array([7454.58364456, 7298.07276603, 7704.87808287, 7407.14703388,\n",
       "       7713.85297711])"
      ]
     },
     "execution_count": 46,
     "metadata": {},
     "output_type": "execute_result"
    }
   ],
   "source": [
    "scores = cross_val_score(tree_reg, X_train, y_train, scoring='neg_mean_squared_error', cv=5)\n",
    "\n",
    "tree_rmse_scores = np.sqrt(-scores)\n",
    "tree_rmse_scores"
   ]
  },
  {
   "cell_type": "markdown",
   "metadata": {},
   "source": [
    "OK, the results seems more reasonable now. Our model is doing better than linear regression model."
   ]
  },
  {
   "cell_type": "code",
   "execution_count": 47,
   "metadata": {
    "execution": {
     "iopub.execute_input": "2022-10-21T09:32:32.314154Z",
     "iopub.status.busy": "2022-10-21T09:32:32.313682Z",
     "iopub.status.idle": "2022-10-21T09:32:33.571606Z",
     "shell.execute_reply": "2022-10-21T09:32:33.570233Z",
     "shell.execute_reply.started": "2022-10-21T09:32:32.314108Z"
    }
   },
   "outputs": [
    {
     "data": {
      "text/plain": [
       "array([8999.37524163, 9584.71227154, 9347.41874415, 9092.53570933,\n",
       "       9528.15900872])"
      ]
     },
     "execution_count": 47,
     "metadata": {},
     "output_type": "execute_result"
    }
   ],
   "source": [
    "lin_scores = cross_val_score(lin_reg, X_train, y_train, scoring='neg_mean_squared_error', cv=5)\n",
    "lin_rmse_scores = np.sqrt(-lin_scores)\n",
    "lin_rmse_scores"
   ]
  },
  {
   "cell_type": "markdown",
   "metadata": {},
   "source": [
    "Another algorithm we will try is Random Forest which is ensemble model. This model relies on randomness, means that n_estimator times decision tree will be trained and the results will combined. (This model will take more time to train than others we tried before as you guess.)"
   ]
  },
  {
   "cell_type": "code",
   "execution_count": 48,
   "metadata": {
    "execution": {
     "iopub.execute_input": "2022-10-21T09:32:33.574444Z",
     "iopub.status.busy": "2022-10-21T09:32:33.573448Z",
     "iopub.status.idle": "2022-10-21T09:33:35.146425Z",
     "shell.execute_reply": "2022-10-21T09:33:35.144794Z",
     "shell.execute_reply.started": "2022-10-21T09:32:33.574397Z"
    }
   },
   "outputs": [
    {
     "data": {
      "text/plain": [
       "RandomForestRegressor(random_state=123)"
      ]
     },
     "execution_count": 48,
     "metadata": {},
     "output_type": "execute_result"
    }
   ],
   "source": [
    "forest_reg = RandomForestRegressor(n_estimators = 100, random_state=123)\n",
    "\n",
    "forest_reg.fit(X_train, y_train)"
   ]
  },
  {
   "cell_type": "code",
   "execution_count": 49,
   "metadata": {
    "execution": {
     "iopub.execute_input": "2022-10-21T09:33:35.148494Z",
     "iopub.status.busy": "2022-10-21T09:33:35.148066Z",
     "iopub.status.idle": "2022-10-21T09:33:35.538791Z",
     "shell.execute_reply": "2022-10-21T09:33:35.537593Z",
     "shell.execute_reply.started": "2022-10-21T09:33:35.148458Z"
    }
   },
   "outputs": [
    {
     "data": {
      "text/plain": [
       "2297.021106042258"
      ]
     },
     "execution_count": 49,
     "metadata": {},
     "output_type": "execute_result"
    }
   ],
   "source": [
    "forest_predictions = forest_reg.predict(X_train)\n",
    "forest_mse = mean_squared_error(y_train, forest_predictions)\n",
    "forest_rmse = np.sqrt(forest_mse)\n",
    "forest_rmse"
   ]
  },
  {
   "cell_type": "code",
   "execution_count": 50,
   "metadata": {
    "execution": {
     "iopub.execute_input": "2022-10-21T09:33:35.541153Z",
     "iopub.status.busy": "2022-10-21T09:33:35.540783Z",
     "iopub.status.idle": "2022-10-21T09:37:25.140231Z",
     "shell.execute_reply": "2022-10-21T09:37:25.139014Z",
     "shell.execute_reply.started": "2022-10-21T09:33:35.541114Z"
    }
   },
   "outputs": [
    {
     "data": {
      "text/plain": [
       "array([5780.25626157, 5684.29515446, 5546.55824399, 5652.49716654,\n",
       "       6005.14956653])"
      ]
     },
     "execution_count": 50,
     "metadata": {},
     "output_type": "execute_result"
    }
   ],
   "source": [
    "forest_scores = cross_val_score(forest_reg, X_train, y_train,\n",
    "                                scoring=\"neg_mean_squared_error\", cv=5)\n",
    "forest_rmse_scores = np.sqrt(-forest_scores)\n",
    "forest_rmse_scores"
   ]
  },
  {
   "cell_type": "markdown",
   "metadata": {},
   "source": [
    ">❗ Random Forest superiors other 2 algorithm so far so let's continue with this algorithm and tune the hyperparameters for it using GridSearchCV. This step will take 10-20 minutes depending on your computer so be careful before running this cell on your pc)"
   ]
  },
  {
   "cell_type": "code",
   "execution_count": 51,
   "metadata": {
    "execution": {
     "iopub.execute_input": "2022-10-21T09:37:25.141614Z",
     "iopub.status.busy": "2022-10-21T09:37:25.141287Z",
     "iopub.status.idle": "2022-10-21T09:51:57.057632Z",
     "shell.execute_reply": "2022-10-21T09:51:57.056246Z",
     "shell.execute_reply.started": "2022-10-21T09:37:25.141584Z"
    }
   },
   "outputs": [
    {
     "data": {
      "text/plain": [
       "GridSearchCV(cv=5, estimator=RandomForestRegressor(random_state=42),\n",
       "             param_grid=[{'max_features': [35, 33, 31],\n",
       "                          'n_estimators': [100, 200]}],\n",
       "             return_train_score=True, scoring='neg_mean_squared_error')"
      ]
     },
     "execution_count": 51,
     "metadata": {},
     "output_type": "execute_result"
    }
   ],
   "source": [
    "param_grid = [\n",
    "    {'n_estimators': [100, 200], 'max_features': [35,33,31]},\n",
    "  ]\n",
    "\n",
    "forest_reg = RandomForestRegressor(random_state=42)\n",
    "\n",
    "grid_search = GridSearchCV(forest_reg, param_grid, cv=5,\n",
    "                           scoring='neg_mean_squared_error',\n",
    "                           return_train_score=True)\n",
    "grid_search.fit(X_train, y_train)"
   ]
  },
  {
   "cell_type": "code",
   "execution_count": 52,
   "metadata": {
    "execution": {
     "iopub.execute_input": "2022-10-21T09:51:57.059253Z",
     "iopub.status.busy": "2022-10-21T09:51:57.058918Z",
     "iopub.status.idle": "2022-10-21T09:51:57.067038Z",
     "shell.execute_reply": "2022-10-21T09:51:57.065777Z",
     "shell.execute_reply.started": "2022-10-21T09:51:57.059210Z"
    }
   },
   "outputs": [
    {
     "data": {
      "text/plain": [
       "{'max_features': 35, 'n_estimators': 200}"
      ]
     },
     "execution_count": 52,
     "metadata": {},
     "output_type": "execute_result"
    }
   ],
   "source": [
    "grid_search.best_params_"
   ]
  },
  {
   "cell_type": "code",
   "execution_count": 53,
   "metadata": {
    "execution": {
     "iopub.execute_input": "2022-10-21T09:51:57.069122Z",
     "iopub.status.busy": "2022-10-21T09:51:57.068654Z",
     "iopub.status.idle": "2022-10-21T09:51:57.080569Z",
     "shell.execute_reply": "2022-10-21T09:51:57.079106Z",
     "shell.execute_reply.started": "2022-10-21T09:51:57.069075Z"
    }
   },
   "outputs": [
    {
     "name": "stdout",
     "output_type": "stream",
     "text": [
      "5605.153105055072 {'max_features': 35, 'n_estimators': 100}\n",
      "5589.300388047561 {'max_features': 35, 'n_estimators': 200}\n",
      "5606.944440610192 {'max_features': 33, 'n_estimators': 100}\n",
      "5593.997639552287 {'max_features': 33, 'n_estimators': 200}\n",
      "5608.1611045576665 {'max_features': 31, 'n_estimators': 100}\n",
      "5602.688100289354 {'max_features': 31, 'n_estimators': 200}\n"
     ]
    }
   ],
   "source": [
    "cvres = grid_search.cv_results_\n",
    "for mean_score, params in zip(cvres[\"mean_test_score\"], cvres[\"params\"]):\n",
    "    print(np.sqrt(-mean_score), params)"
   ]
  },
  {
   "cell_type": "code",
   "execution_count": 54,
   "metadata": {
    "execution": {
     "iopub.execute_input": "2022-10-21T09:51:57.082508Z",
     "iopub.status.busy": "2022-10-21T09:51:57.082058Z",
     "iopub.status.idle": "2022-10-21T09:51:57.162855Z",
     "shell.execute_reply": "2022-10-21T09:51:57.161713Z",
     "shell.execute_reply.started": "2022-10-21T09:51:57.082471Z"
    }
   },
   "outputs": [
    {
     "data": {
      "text/plain": [
       "[(0.16222821803285245, 'Prod. year'),\n",
       " (0.11406447328306066, 'Mileage'),\n",
       " (0.10666123617296097, 'Airbags'),\n",
       " (0.06947240110283213, 'Levy'),\n",
       " (0.06137691450583727, 'Engine volume'),\n",
       " (0.060392968321859065, 'Diesel'),\n",
       " (0.036292755395727495, 'Tiptronic'),\n",
       " (0.02880576099864349, 'HYUNDAI'),\n",
       " (0.02447151552525159, 'Automatic'),\n",
       " (0.023294992090805034, 'SSANGYONG'),\n",
       " (0.019544986498590513, 'Cylinders'),\n",
       " (0.019094152758166442, 'Sedan'),\n",
       " (0.017111128251968075, 'Jeep'),\n",
       " (0.015229080814674518, False),\n",
       " (0.014828442938028251, True),\n",
       " (0.014237762684945338, 'Front'),\n",
       " (0.012764262163777015, True),\n",
       " (0.012632612830036057, 'TOYOTA'),\n",
       " (0.012417781667569999, False),\n",
       " (0.010904544507763732, 'Black'),\n",
       " (0.009867545588716015, 'White'),\n",
       " (0.009764591684842349, 'Petrol'),\n",
       " (0.008982433760085267, 'Silver'),\n",
       " (0.008916379884388545, 'Hybrid'),\n",
       " (0.008767703396986662, '4x4'),\n",
       " (0.00731888123798712, 'MERCEDES-BENZ'),\n",
       " (0.007172241463251212, 'Grey'),\n",
       " (0.0065626279453928765, 'LEXUS'),\n",
       " (0.005887059508549772, 'Rear'),\n",
       " (0.0056433695158435064, 'BMW'),\n",
       " (0.005499660937433632, 'Left wheel'),\n",
       " (0.005453464016615167, 'Right-hand drive'),\n",
       " (0.004913639000865601, 'Blue'),\n",
       " (0.00442824601704801, 'CHEVROLET'),\n",
       " (0.004116753423646756, 'Hatchback'),\n",
       " (0.003982325867254896, 'Manual'),\n",
       " (0.003774178208718183, 'LPG'),\n",
       " (0.0036400655610590213, 'Doors'),\n",
       " (0.003199577622047685, 'HONDA'),\n",
       " (0.0029378182067385005, 'FORD'),\n",
       " (0.002839012668255132, 'VOLKSWAGEN'),\n",
       " (0.0027837069343527366, 'KIA'),\n",
       " (0.0027586212377124397, 'Plug-in Hybrid'),\n",
       " (0.0025206840275066077, 'Minivan'),\n",
       " (0.002357138256516872, 'JEEP'),\n",
       " (0.0020529265634188784, 'Variator'),\n",
       " (0.001987610210165499, 'Red'),\n",
       " (0.001941953746071855, 'Universal'),\n",
       " (0.0018311433582952378, 'NISSAN'),\n",
       " (0.0017242674907090897, 'Coupe'),\n",
       " (0.0016328948791278534, 'AUDI'),\n",
       " (0.0013672335381096606, 'SUBARU'),\n",
       " (0.0013215295954676506, 'Microbus'),\n",
       " (0.0012266259465710263, 'Brown'),\n",
       " (0.0011635315083880617, 'Carnelian red'),\n",
       " (0.0010380084306004249, 'CNG'),\n",
       " (0.001033366547828395, 'JAGUAR'),\n",
       " (0.0009972848729031484, 'PORSCHE'),\n",
       " (0.0007364921581239721, 'MAZDA'),\n",
       " (0.0007061188300094225, 'Sky blue'),\n",
       " (0.0007031563975169652, 'DAEWOO'),\n",
       " (0.0006892869624968384, 'Beige'),\n",
       " (0.0006570453386682963, 'MITSUBISHI'),\n",
       " (0.0006031363247570874, 'Pickup'),\n",
       " (0.000600773923099884, 'Golden'),\n",
       " (0.0005643853567999119, 'SUZUKI'),\n",
       " (0.0005551379787632215, 'Orange'),\n",
       " (0.0004972345909881096, 'Green'),\n",
       " (0.0004400047251720981, 'OPEL'),\n",
       " (0.00040700578270012926, 'MASERATI'),\n",
       " (0.0003860648509223353, 'HUMMER'),\n",
       " (0.0003595916400795858, 'Yellow'),\n",
       " (0.0003353579421821401, 'INFINITI'),\n",
       " (0.0002762822259522823, 'Cabriolet'),\n",
       " (0.00025249206620275036, 'Goods wagon'),\n",
       " (0.0001947293085224827, 'CADILLAC'),\n",
       " (0.00018969664830323268, 'SKODA'),\n",
       " (0.0001880295630971723, 'DODGE'),\n",
       " (0.0001661912644398256, 'LINCOLN'),\n",
       " (0.00015288053837883694, 'LAND ROVER'),\n",
       " (0.00012851099141866098, 'FIAT'),\n",
       " (0.00011696325541873064, 'Limousine'),\n",
       " (9.739677249187715e-05, 'VAZ'),\n",
       " (9.607333183813324e-05, 'MINI'),\n",
       " (8.797098693318008e-05, 'RENAULT'),\n",
       " (6.824401207973895e-05, 'ACURA'),\n",
       " (6.584447584873386e-05, 'GMC'),\n",
       " (5.3830343180929005e-05, 'BUICK'),\n",
       " (5.260311536111137e-05, 'Purple'),\n",
       " (5.109885636541918e-05, 'VOLVO'),\n",
       " (3.817070741856645e-05, 'CHRYSLER'),\n",
       " (3.360347796269391e-05, 'GAZ'),\n",
       " (3.354823369164094e-05, 'DAIHATSU'),\n",
       " (3.2230037838671434e-05, 'Pink'),\n",
       " (2.4703223698394986e-05, 'MERCURY'),\n",
       " (2.2934748843228306e-05, 'SCION'),\n",
       " (2.2021726713906023e-05, 'MOSKVICH'),\n",
       " (1.93433924664286e-05, 'PEUGEOT'),\n",
       " (1.6335708604979542e-05, 'CITROEN'),\n",
       " (1.3819875950812896e-05, 'ROLLS-ROYCE'),\n",
       " (9.866994821853237e-06, 'ALFA ROMEO'),\n",
       " (6.5992236514908215e-06, 'UAZ'),\n",
       " (6.190452773688728e-06, 'SEAT'),\n",
       " (3.901138467315255e-06, 'ISUZU'),\n",
       " (1.8751212329635616e-06, 'ROVER'),\n",
       " (1.7629941270700914e-06, 'GREATWALL'),\n",
       " (1.2774411948128183e-06, 'SAAB'),\n",
       " (9.173760695371426e-08, 'ZAZ'),\n",
       " (0.0, 'სხვა'),\n",
       " (0.0, 'SATURN'),\n",
       " (0.0, 'PONTIAC'),\n",
       " (0.0, 'LANCIA'),\n",
       " (0.0, 'Hydrogen'),\n",
       " (0.0, 'HAVAL')]"
      ]
     },
     "execution_count": 54,
     "metadata": {},
     "output_type": "execute_result"
    }
   ],
   "source": [
    "feature_importances = grid_search.best_estimator_.feature_importances_\n",
    "cat_encoder = full_pipeline.named_transformers_[\"cat\"]\n",
    "cat_one_hot_attribs = [i  for cat in cat_encoder.categories_ for i in cat]\n",
    "attributes = num_attribs +  cat_one_hot_attribs\n",
    "sorted(zip(feature_importances, attributes), reverse=True)"
   ]
  },
  {
   "cell_type": "code",
   "execution_count": 55,
   "metadata": {
    "execution": {
     "iopub.execute_input": "2022-10-21T09:51:57.164532Z",
     "iopub.status.busy": "2022-10-21T09:51:57.164089Z",
     "iopub.status.idle": "2022-10-21T09:51:57.588156Z",
     "shell.execute_reply": "2022-10-21T09:51:57.587085Z",
     "shell.execute_reply.started": "2022-10-21T09:51:57.164496Z"
    }
   },
   "outputs": [
    {
     "data": {
      "text/plain": [
       "5761.036495090154"
      ]
     },
     "execution_count": 55,
     "metadata": {},
     "output_type": "execute_result"
    }
   ],
   "source": [
    "final_model = grid_search.best_estimator_\n",
    "final_predictions = final_model.predict(X_test)\n",
    "final_mse = mean_squared_error(y_test, final_predictions)\n",
    "final_rmse = np.sqrt(final_mse)\n",
    "final_rmse"
   ]
  },
  {
   "cell_type": "markdown",
   "metadata": {},
   "source": [
    "Sooo as a final result we are 5.7k far away from actual results, this is not bad! Also we seems like we don't have overfitting problem at all, means that our model generalizes well. Let's make confidence interval to serve our results."
   ]
  },
  {
   "cell_type": "code",
   "execution_count": 56,
   "metadata": {
    "execution": {
     "iopub.execute_input": "2022-10-21T09:51:57.592068Z",
     "iopub.status.busy": "2022-10-21T09:51:57.591308Z",
     "iopub.status.idle": "2022-10-21T09:51:57.604733Z",
     "shell.execute_reply": "2022-10-21T09:51:57.603069Z",
     "shell.execute_reply.started": "2022-10-21T09:51:57.592034Z"
    }
   },
   "outputs": [
    {
     "data": {
      "text/plain": [
       "array([5506.64790839, 6004.65750968])"
      ]
     },
     "execution_count": 56,
     "metadata": {},
     "output_type": "execute_result"
    }
   ],
   "source": [
    "confidence = 0.95\n",
    "squared_errors = (final_predictions - y_test) ** 2\n",
    "np.sqrt(stats.t.interval(confidence, len(squared_errors) - 1,\n",
    "                         loc=squared_errors.mean(),\n",
    "                         scale=stats.sem(squared_errors)))"
   ]
  },
  {
   "cell_type": "markdown",
   "metadata": {},
   "source": [
    "We are 95 percent confident to say that our errors will be in the range of (5506.64790839 , 6004.65750968)."
   ]
  },
  {
   "cell_type": "code",
   "execution_count": 57,
   "metadata": {
    "execution": {
     "iopub.execute_input": "2022-10-21T09:51:57.607098Z",
     "iopub.status.busy": "2022-10-21T09:51:57.606394Z",
     "iopub.status.idle": "2022-10-21T09:51:57.907975Z",
     "shell.execute_reply": "2022-10-21T09:51:57.906929Z",
     "shell.execute_reply.started": "2022-10-21T09:51:57.607061Z"
    }
   },
   "outputs": [
    {
     "data": {
      "text/plain": [
       "['final_model.pkl']"
      ]
     },
     "execution_count": 57,
     "metadata": {},
     "output_type": "execute_result"
    }
   ],
   "source": [
    "# Save the model we trained\n",
    "joblib.dump(final_model, \"final_model.pkl\")\n",
    "\n",
    "# If you want to use this model all you need to do is:\n",
    "# joblib.load('final_model.pkl')"
   ]
  },
  {
   "cell_type": "markdown",
   "metadata": {},
   "source": [
    "## Extra"
   ]
  },
  {
   "cell_type": "markdown",
   "metadata": {},
   "source": [
    "We checked the feature importances couple of cell before and some of the features seem not adding quite information to our model. So let's pick first k features to train our model. In order to do that, we will make custom transformer and will use it in the Pipeline which will take care data cleaning, selection of top k features and training our model."
   ]
  },
  {
   "cell_type": "code",
   "execution_count": 58,
   "metadata": {
    "execution": {
     "iopub.execute_input": "2022-10-21T09:51:57.909835Z",
     "iopub.status.busy": "2022-10-21T09:51:57.909298Z",
     "iopub.status.idle": "2022-10-21T09:51:57.918037Z",
     "shell.execute_reply": "2022-10-21T09:51:57.916707Z",
     "shell.execute_reply.started": "2022-10-21T09:51:57.909802Z"
    }
   },
   "outputs": [],
   "source": [
    "from sklearn.base import BaseEstimator, TransformerMixin\n",
    "\n",
    "def indices_of_top_k(arr, k):\n",
    "    return np.sort(np.argpartition(np.array(arr), -k)[-k:])\n",
    "\n",
    "class TopFeatureSelector(BaseEstimator, TransformerMixin):\n",
    "    def __init__(self, feature_importances, k):\n",
    "        self.feature_importances = feature_importances\n",
    "        self.k = k\n",
    "    def fit(self, X, y=None):\n",
    "        self.feature_indices_ = indices_of_top_k(self.feature_importances, self.k)\n",
    "        return self\n",
    "    def transform(self, X):\n",
    "        return X[:, self.feature_indices_]"
   ]
  },
  {
   "cell_type": "code",
   "execution_count": 59,
   "metadata": {
    "execution": {
     "iopub.execute_input": "2022-10-21T09:51:57.920096Z",
     "iopub.status.busy": "2022-10-21T09:51:57.919616Z",
     "iopub.status.idle": "2022-10-21T09:51:57.936782Z",
     "shell.execute_reply": "2022-10-21T09:51:57.935783Z",
     "shell.execute_reply.started": "2022-10-21T09:51:57.920062Z"
    }
   },
   "outputs": [],
   "source": [
    "final_pipeline = Pipeline([('full',full_pipeline),\n",
    "                           ('top_feature_selector',TopFeatureSelector(feature_importances, 35)),\n",
    "                          ('model', final_model)])"
   ]
  },
  {
   "cell_type": "code",
   "execution_count": 60,
   "metadata": {
    "execution": {
     "iopub.execute_input": "2022-10-21T09:51:57.938170Z",
     "iopub.status.busy": "2022-10-21T09:51:57.937838Z",
     "iopub.status.idle": "2022-10-21T09:54:59.151571Z",
     "shell.execute_reply": "2022-10-21T09:54:59.150272Z",
     "shell.execute_reply.started": "2022-10-21T09:51:57.938141Z"
    }
   },
   "outputs": [
    {
     "data": {
      "text/plain": [
       "Pipeline(steps=[('full',\n",
       "                 ColumnTransformer(transformers=[('num',\n",
       "                                                  Pipeline(steps=[('imputer',\n",
       "                                                                   SimpleImputer(strategy='median')),\n",
       "                                                                  ('std_scaler',\n",
       "                                                                   StandardScaler())]),\n",
       "                                                  ['Levy', 'Prod. year',\n",
       "                                                   'Engine volume', 'Doors',\n",
       "                                                   'Mileage', 'Cylinders',\n",
       "                                                   'Airbags']),\n",
       "                                                 ('cat', OneHotEncoder(),\n",
       "                                                  ['Manufacturer', 'Category',\n",
       "                                                   'Leather interior',\n",
       "                                                   'Fuel type', 'Gear box type',\n",
       "                                                   'Drive wheels', 'Wheel',...\n",
       "       6.89286962e-04, 1.09045445e-02, 4.91363900e-03, 1.22662595e-03,\n",
       "       1.16353151e-03, 6.00773923e-04, 4.97234591e-04, 7.17224146e-03,\n",
       "       5.55137979e-04, 3.22300378e-05, 5.26031154e-05, 1.98761021e-03,\n",
       "       8.98243376e-03, 7.06118830e-04, 9.86754559e-03, 3.59591640e-04,\n",
       "       1.24177817e-02, 1.27642622e-02]),\n",
       "                                    k=35)),\n",
       "                ('model',\n",
       "                 RandomForestRegressor(max_features=35, n_estimators=200,\n",
       "                                       random_state=42))])"
      ]
     },
     "execution_count": 60,
     "metadata": {},
     "output_type": "execute_result"
    }
   ],
   "source": [
    "final_pipeline.fit(deleted_df.drop('Price', axis=1), deleted_df['Price'])"
   ]
  },
  {
   "cell_type": "code",
   "execution_count": 61,
   "metadata": {
    "execution": {
     "iopub.execute_input": "2022-10-21T09:54:59.153247Z",
     "iopub.status.busy": "2022-10-21T09:54:59.152860Z",
     "iopub.status.idle": "2022-10-21T09:54:59.198975Z",
     "shell.execute_reply": "2022-10-21T09:54:59.197796Z",
     "shell.execute_reply.started": "2022-10-21T09:54:59.153178Z"
    }
   },
   "outputs": [
    {
     "data": {
      "text/plain": [
       "array([13366.02646922, 16402.68      ,  8588.61      ,  3413.84898063])"
      ]
     },
     "metadata": {},
     "output_type": "display_data"
    },
    {
     "data": {
      "text/plain": [
       "array([13328, 16621,  8467,  3607])"
      ]
     },
     "metadata": {},
     "output_type": "display_data"
    }
   ],
   "source": [
    "some_data = deleted_df.drop('Price', axis=1).iloc[:4]\n",
    "some_labels = deleted_df['Price'].iloc[:4]\n",
    "\n",
    "pred = final_pipeline.predict(some_data)\n",
    "display(pred)\n",
    "display(some_labels.values)"
   ]
  },
  {
   "cell_type": "markdown",
   "metadata": {
    "execution": {
     "iopub.execute_input": "2022-10-17T17:38:45.423426Z",
     "iopub.status.busy": "2022-10-17T17:38:45.422621Z",
     "iopub.status.idle": "2022-10-17T17:38:45.429856Z",
     "shell.execute_reply": "2022-10-17T17:38:45.428516Z",
     "shell.execute_reply.started": "2022-10-17T17:38:45.423386Z"
    }
   },
   "source": [
    "\n",
    "<center><img\n",
    "src=\"https://monophy.com/media/l0HlRaCJRVkRiVUNa/monophy.gif\" style=\"width:70%;height:70%;\">\n",
    "</center>\n",
    "\n",
    "This is the end of our notebook! We've done lots of stuff data cleaning, model training, evaluation of model and many more. Looking forward for your thoughts in the comment section. Peace out :)"
   ]
  }
 ],
 "metadata": {
  "kernelspec": {
   "display_name": "Python 3 (ipykernel)",
   "language": "python",
   "name": "python3"
  },
  "language_info": {
   "codemirror_mode": {
    "name": "ipython",
    "version": 3
   },
   "file_extension": ".py",
   "mimetype": "text/x-python",
   "name": "python",
   "nbconvert_exporter": "python",
   "pygments_lexer": "ipython3",
   "version": "3.9.16"
  }
 },
 "nbformat": 4,
 "nbformat_minor": 4
}
